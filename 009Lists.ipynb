{
 "cells": [
  {
   "cell_type": "markdown",
   "id": "410e69fe",
   "metadata": {},
   "source": [
    "# Programming"
   ]
  },
  {
   "cell_type": "markdown",
   "id": "8a599196",
   "metadata": {},
   "source": [
    "- Algorithms - a set of rules or steps used to solve a problem\n",
    "- Data Structures - a particular way of organizing data in a computer"
   ]
  },
  {
   "cell_type": "markdown",
   "id": "31818e82",
   "metadata": {},
   "source": [
    "# What is Not a \"Collection\"?"
   ]
  },
  {
   "cell_type": "markdown",
   "id": "2ff87769",
   "metadata": {},
   "source": [
    "Most of our variables have one value in them - when we put a new value in the varialbe, the old value is overwritten"
   ]
  },
  {
   "cell_type": "code",
   "execution_count": 1,
   "id": "20e35c51",
   "metadata": {},
   "outputs": [
    {
     "name": "stdout",
     "output_type": "stream",
     "text": [
      "4\n"
     ]
    }
   ],
   "source": [
    "x = 2\n",
    "x = 4\n",
    "print(x)"
   ]
  },
  {
   "cell_type": "markdown",
   "id": "4feb4760",
   "metadata": {},
   "source": [
    "# A List is a kind of Collection"
   ]
  },
  {
   "cell_type": "markdown",
   "id": "355ba8c6",
   "metadata": {},
   "source": [
    "- a collection allows us to put many values in a single \"variable\"\n",
    "- a collection is nice because we can carry many values around in one convenient package"
   ]
  },
  {
   "cell_type": "code",
   "execution_count": 2,
   "id": "a2dc8f43",
   "metadata": {},
   "outputs": [],
   "source": [
    "friends = ['Joseph', 'Glenn', 'Sally']\n",
    "carryon = ['socks', 'shirt', 'perfume']"
   ]
  },
  {
   "cell_type": "markdown",
   "id": "4ba8ff70",
   "metadata": {},
   "source": [
    "# List Constants"
   ]
  },
  {
   "cell_type": "markdown",
   "id": "ba547d6c",
   "metadata": {},
   "source": [
    "- List constants are surrounded by square brackets and the elements in the list are seperated by commas\n",
    "- a list element can be any Python object - even another list\n",
    "- a list can be empty"
   ]
  },
  {
   "cell_type": "code",
   "execution_count": 3,
   "id": "00694ed5",
   "metadata": {},
   "outputs": [
    {
     "name": "stdout",
     "output_type": "stream",
     "text": [
      "[1, [5, 6], 8]\n"
     ]
    }
   ],
   "source": [
    "list_ = [1, [5,6], 8]\n",
    "print(list_)"
   ]
  },
  {
   "cell_type": "code",
   "execution_count": 4,
   "id": "e4d527d2",
   "metadata": {},
   "outputs": [
    {
     "name": "stdout",
     "output_type": "stream",
     "text": [
      "[]\n"
     ]
    }
   ],
   "source": [
    "list1 = []\n",
    "print(list1)"
   ]
  },
  {
   "cell_type": "markdown",
   "id": "03a0b738",
   "metadata": {},
   "source": [
    "# Looking Inside Lists"
   ]
  },
  {
   "cell_type": "markdown",
   "id": "3517ba64",
   "metadata": {},
   "source": [
    "Just like strings, we can get at any single element in a list using an index specified in square brackets"
   ]
  },
  {
   "cell_type": "code",
   "execution_count": 5,
   "id": "5bc0b938",
   "metadata": {},
   "outputs": [
    {
     "name": "stdout",
     "output_type": "stream",
     "text": [
      "Glenn\n"
     ]
    }
   ],
   "source": [
    "friends = ['Joseph', 'Glenn', 'Sally']\n",
    "print(friends[1])"
   ]
  },
  {
   "cell_type": "markdown",
   "id": "6d2b265c",
   "metadata": {},
   "source": [
    "# Lists are Mutable"
   ]
  },
  {
   "cell_type": "markdown",
   "id": "84725e5e",
   "metadata": {},
   "source": [
    "- STRINGS are \"immutable\" - we cannot change the contents of a string - we must make a new string to make any change\n",
    "- Lists are\"mutable\" - we can change an element of a list using the index operator"
   ]
  },
  {
   "cell_type": "code",
   "execution_count": 6,
   "id": "6251f37e",
   "metadata": {},
   "outputs": [
    {
     "ename": "TypeError",
     "evalue": "'str' object does not support item assignment",
     "output_type": "error",
     "traceback": [
      "\u001b[0;31m---------------------------------------------------------------------------\u001b[0m",
      "\u001b[0;31mTypeError\u001b[0m                                 Traceback (most recent call last)",
      "Cell \u001b[0;32mIn[6], line 2\u001b[0m\n\u001b[1;32m      1\u001b[0m fruit \u001b[38;5;241m=\u001b[39m \u001b[38;5;124m\"\u001b[39m\u001b[38;5;124mBanana\u001b[39m\u001b[38;5;124m\"\u001b[39m\n\u001b[0;32m----> 2\u001b[0m fruit[\u001b[38;5;241m0\u001b[39m] \u001b[38;5;241m=\u001b[39m \u001b[38;5;124m'\u001b[39m\u001b[38;5;124mb\u001b[39m\u001b[38;5;124m'\u001b[39m\n",
      "\u001b[0;31mTypeError\u001b[0m: 'str' object does not support item assignment"
     ]
    }
   ],
   "source": [
    "fruit = \"Banana\"\n",
    "fruit[0] = 'b'"
   ]
  },
  {
   "cell_type": "code",
   "execution_count": 8,
   "id": "1120fc73",
   "metadata": {},
   "outputs": [
    {
     "name": "stdout",
     "output_type": "stream",
     "text": [
      "banana\n"
     ]
    }
   ],
   "source": [
    "x = fruit.lower()\n",
    "print(x)"
   ]
  },
  {
   "cell_type": "code",
   "execution_count": 10,
   "id": "35163628",
   "metadata": {},
   "outputs": [
    {
     "name": "stdout",
     "output_type": "stream",
     "text": [
      "[2, 14, 26, 41, 63]\n"
     ]
    }
   ],
   "source": [
    "lotto = [2, 14, 26, 41, 63]\n",
    "print(lotto)"
   ]
  },
  {
   "cell_type": "code",
   "execution_count": 12,
   "id": "d970d2a7",
   "metadata": {},
   "outputs": [
    {
     "name": "stdout",
     "output_type": "stream",
     "text": [
      "[2, 14, '28', 41, 63]\n"
     ]
    }
   ],
   "source": [
    "lotto[2] = '28'\n",
    "print(lotto)"
   ]
  },
  {
   "cell_type": "markdown",
   "id": "db219cab",
   "metadata": {},
   "source": [
    "# How long is a List?"
   ]
  },
  {
   "cell_type": "markdown",
   "id": "d466fde5",
   "metadata": {},
   "source": [
    "- the len() function takes a list as a parameter and returns the number of elements in the list\n",
    "- actually len() tells us the number of elements of any set or sequence (such as a string...)"
   ]
  },
  {
   "cell_type": "code",
   "execution_count": 13,
   "id": "135464ce",
   "metadata": {},
   "outputs": [
    {
     "name": "stdout",
     "output_type": "stream",
     "text": [
      "9\n"
     ]
    }
   ],
   "source": [
    "greet = 'Hello Bob'\n",
    "print(len(greet))"
   ]
  },
  {
   "cell_type": "code",
   "execution_count": 14,
   "id": "bac70bc6",
   "metadata": {},
   "outputs": [
    {
     "name": "stdout",
     "output_type": "stream",
     "text": [
      "4\n"
     ]
    }
   ],
   "source": [
    "x = [1, 2, 'joe', 99]\n",
    "print(len(x))"
   ]
  },
  {
   "cell_type": "markdown",
   "id": "973a8a5c",
   "metadata": {},
   "source": [
    "# Using the RANGE function"
   ]
  },
  {
   "cell_type": "markdown",
   "id": "0120c53f",
   "metadata": {},
   "source": [
    "- the range function returns a list of numbers that range from zero to one less than the parameter\n",
    "- we can construct an index loop using for and an integer iterator"
   ]
  },
  {
   "cell_type": "code",
   "execution_count": 17,
   "id": "f60a5489",
   "metadata": {},
   "outputs": [
    {
     "name": "stdout",
     "output_type": "stream",
     "text": [
      "range(0, 4)\n"
     ]
    }
   ],
   "source": [
    "print(range(4))"
   ]
  },
  {
   "cell_type": "code",
   "execution_count": 18,
   "id": "772bfeda",
   "metadata": {},
   "outputs": [
    {
     "name": "stdout",
     "output_type": "stream",
     "text": [
      "3\n"
     ]
    }
   ],
   "source": [
    "friends = ['Joseph', 'Glenn', 'Sally']\n",
    "print(len(friends))"
   ]
  },
  {
   "cell_type": "code",
   "execution_count": 19,
   "id": "468896c0",
   "metadata": {},
   "outputs": [
    {
     "name": "stdout",
     "output_type": "stream",
     "text": [
      "range(0, 3)\n"
     ]
    }
   ],
   "source": [
    "print(range(len(friends)))"
   ]
  },
  {
   "cell_type": "code",
   "execution_count": 20,
   "id": "3971a5f5",
   "metadata": {},
   "outputs": [
    {
     "name": "stdout",
     "output_type": "stream",
     "text": [
      "Happy New Year: Joseph\n",
      "Happy New Year: Glenn\n",
      "Happy New Year: Sally\n"
     ]
    }
   ],
   "source": [
    "for friend in friends :\n",
    "    print('Happy New Year:', friend)"
   ]
  },
  {
   "cell_type": "code",
   "execution_count": 23,
   "id": "9ac337cd",
   "metadata": {},
   "outputs": [
    {
     "name": "stdout",
     "output_type": "stream",
     "text": [
      "Happy New Year: Joseph\n",
      "Happy New Year: Glenn\n",
      "Happy New Year: Sally\n"
     ]
    }
   ],
   "source": [
    "for i in range(len(friends)) :\n",
    "    friend = friends[i]\n",
    "    print('Happy New Year:', friend)"
   ]
  },
  {
   "cell_type": "markdown",
   "id": "525ae8b6",
   "metadata": {},
   "source": [
    "# Concatenating Lists Using +"
   ]
  },
  {
   "cell_type": "markdown",
   "id": "7f87ff40",
   "metadata": {},
   "source": [
    "- we can create a new list by adding two existing lists together"
   ]
  },
  {
   "cell_type": "code",
   "execution_count": 25,
   "id": "91d086aa",
   "metadata": {},
   "outputs": [
    {
     "name": "stdout",
     "output_type": "stream",
     "text": [
      "[1, 2, 3, 4, 5, 6]\n"
     ]
    }
   ],
   "source": [
    "a = [1, 2, 3]\n",
    "b = [4, 5, 6]\n",
    "c = a + b\n",
    "print(c)"
   ]
  },
  {
   "cell_type": "markdown",
   "id": "0a7ad04a",
   "metadata": {},
   "source": [
    "# Lists can be Sliced using :"
   ]
  },
  {
   "cell_type": "markdown",
   "id": "30a97d8d",
   "metadata": {},
   "source": [
    "- REMEMBER: just like in strings, the second number is \"up to but not including\""
   ]
  },
  {
   "cell_type": "code",
   "execution_count": 26,
   "id": "9d9fd59d",
   "metadata": {},
   "outputs": [
    {
     "data": {
      "text/plain": [
       "[41, 12]"
      ]
     },
     "execution_count": 26,
     "metadata": {},
     "output_type": "execute_result"
    }
   ],
   "source": [
    "t = [9, 41, 12, 3, 74, 15]\n",
    "t[1:3]"
   ]
  },
  {
   "cell_type": "code",
   "execution_count": 27,
   "id": "099d85f1",
   "metadata": {},
   "outputs": [
    {
     "data": {
      "text/plain": [
       "[9, 41, 12, 3]"
      ]
     },
     "execution_count": 27,
     "metadata": {},
     "output_type": "execute_result"
    }
   ],
   "source": [
    "t[:4]"
   ]
  },
  {
   "cell_type": "code",
   "execution_count": 28,
   "id": "7e74327b",
   "metadata": {},
   "outputs": [
    {
     "data": {
      "text/plain": [
       "[3, 74, 15]"
      ]
     },
     "execution_count": 28,
     "metadata": {},
     "output_type": "execute_result"
    }
   ],
   "source": [
    "t[3:]"
   ]
  },
  {
   "cell_type": "code",
   "execution_count": 29,
   "id": "df8e93d2",
   "metadata": {},
   "outputs": [
    {
     "data": {
      "text/plain": [
       "[9, 41, 12, 3, 74, 15]"
      ]
     },
     "execution_count": 29,
     "metadata": {},
     "output_type": "execute_result"
    }
   ],
   "source": [
    "t[:]"
   ]
  },
  {
   "cell_type": "markdown",
   "id": "d0b25653",
   "metadata": {},
   "source": [
    "# List Methods"
   ]
  },
  {
   "cell_type": "code",
   "execution_count": 32,
   "id": "2fbed882",
   "metadata": {},
   "outputs": [
    {
     "data": {
      "text/plain": [
       "list"
      ]
     },
     "execution_count": 32,
     "metadata": {},
     "output_type": "execute_result"
    }
   ],
   "source": [
    "x = list()\n",
    "type(x)"
   ]
  },
  {
   "cell_type": "code",
   "execution_count": 33,
   "id": "98b8010c",
   "metadata": {},
   "outputs": [
    {
     "data": {
      "text/plain": [
       "['__add__',\n",
       " '__class__',\n",
       " '__class_getitem__',\n",
       " '__contains__',\n",
       " '__delattr__',\n",
       " '__delitem__',\n",
       " '__dir__',\n",
       " '__doc__',\n",
       " '__eq__',\n",
       " '__format__',\n",
       " '__ge__',\n",
       " '__getattribute__',\n",
       " '__getitem__',\n",
       " '__gt__',\n",
       " '__hash__',\n",
       " '__iadd__',\n",
       " '__imul__',\n",
       " '__init__',\n",
       " '__init_subclass__',\n",
       " '__iter__',\n",
       " '__le__',\n",
       " '__len__',\n",
       " '__lt__',\n",
       " '__mul__',\n",
       " '__ne__',\n",
       " '__new__',\n",
       " '__reduce__',\n",
       " '__reduce_ex__',\n",
       " '__repr__',\n",
       " '__reversed__',\n",
       " '__rmul__',\n",
       " '__setattr__',\n",
       " '__setitem__',\n",
       " '__sizeof__',\n",
       " '__str__',\n",
       " '__subclasshook__',\n",
       " 'append',\n",
       " 'clear',\n",
       " 'copy',\n",
       " 'count',\n",
       " 'extend',\n",
       " 'index',\n",
       " 'insert',\n",
       " 'pop',\n",
       " 'remove',\n",
       " 'reverse',\n",
       " 'sort']"
      ]
     },
     "execution_count": 33,
     "metadata": {},
     "output_type": "execute_result"
    }
   ],
   "source": [
    "dir(x)"
   ]
  },
  {
   "cell_type": "markdown",
   "id": "4b0ae5ff",
   "metadata": {},
   "source": [
    "# Building a List from Scratch"
   ]
  },
  {
   "cell_type": "markdown",
   "id": "50a03aeb",
   "metadata": {},
   "source": [
    "- we can create an empty list and then add elements using the append method\n",
    "- the list stays in order and new elements are added at the end of the list"
   ]
  },
  {
   "cell_type": "code",
   "execution_count": 34,
   "id": "b76c5678",
   "metadata": {},
   "outputs": [
    {
     "name": "stdout",
     "output_type": "stream",
     "text": [
      "['book', 99]\n"
     ]
    }
   ],
   "source": [
    "stuff = list()\n",
    "stuff.append('book')\n",
    "stuff.append(99)\n",
    "print(stuff)"
   ]
  },
  {
   "cell_type": "code",
   "execution_count": 36,
   "id": "1e77290b",
   "metadata": {},
   "outputs": [
    {
     "name": "stdout",
     "output_type": "stream",
     "text": [
      "['book', 99, 'cookie', 'cookie']\n"
     ]
    }
   ],
   "source": [
    "stuff.append('cookie')\n",
    "print(stuff)"
   ]
  },
  {
   "cell_type": "code",
   "execution_count": null,
   "id": "7dff6b2d",
   "metadata": {},
   "outputs": [],
   "source": []
  }
 ],
 "metadata": {
  "kernelspec": {
   "display_name": "Python 3 (ipykernel)",
   "language": "python",
   "name": "python3"
  },
  "language_info": {
   "codemirror_mode": {
    "name": "ipython",
    "version": 3
   },
   "file_extension": ".py",
   "mimetype": "text/x-python",
   "name": "python",
   "nbconvert_exporter": "python",
   "pygments_lexer": "ipython3",
   "version": "3.10.11"
  }
 },
 "nbformat": 4,
 "nbformat_minor": 5
}
