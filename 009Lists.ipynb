{
 "cells": [
  {
   "cell_type": "markdown",
   "id": "4f58aff7",
   "metadata": {},
   "source": [
    "# Programming"
   ]
  },
  {
   "cell_type": "markdown",
   "id": "ca888713",
   "metadata": {},
   "source": [
    "- Algorithms - a set of rules or steps used to solve a problem\n",
    "- Data Structures - a particular way of organizing data in a computer"
   ]
  },
  {
   "cell_type": "markdown",
   "id": "680bd802",
   "metadata": {},
   "source": [
    "# What is Not a \"Collection\"?"
   ]
  },
  {
   "cell_type": "markdown",
   "id": "57e03bec",
   "metadata": {},
   "source": [
    "Most of our variables have one value in them - when we put a new value in the varialbe, the old value is overwritten"
   ]
  },
  {
   "cell_type": "code",
   "execution_count": 1,
   "id": "329e08ab",
   "metadata": {},
   "outputs": [
    {
     "name": "stdout",
     "output_type": "stream",
     "text": [
      "4\n"
     ]
    }
   ],
   "source": [
    "x = 2\n",
    "x = 4\n",
    "print(x)"
   ]
  },
  {
   "cell_type": "markdown",
   "id": "2d1b943d",
   "metadata": {},
   "source": [
    "# A List is a kind of Collection"
   ]
  },
  {
   "cell_type": "markdown",
   "id": "7fdb45c3",
   "metadata": {},
   "source": [
    "- a collection allows us to put many values in a single \"variable\"\n",
    "- a collection is nice because we can carry many values around in one convenient package"
   ]
  },
  {
   "cell_type": "code",
   "execution_count": 2,
   "id": "da7b6609",
   "metadata": {},
   "outputs": [],
   "source": [
    "friends = ['Joseph', 'Glenn', 'Sally']\n",
    "carryon = ['socks', 'shirt', 'perfume']"
   ]
  },
  {
   "cell_type": "markdown",
   "id": "60bd1cb7",
   "metadata": {},
   "source": [
    "# List Constants"
   ]
  },
  {
   "cell_type": "markdown",
   "id": "3237ff14",
   "metadata": {},
   "source": [
    "- List constants are surrounded by square brackets and the elements in the list are seperated by commas\n",
    "- a list element can be any Python object - even another list\n",
    "- a list can be empty"
   ]
  },
  {
   "cell_type": "code",
   "execution_count": 3,
   "id": "0413131c",
   "metadata": {},
   "outputs": [
    {
     "name": "stdout",
     "output_type": "stream",
     "text": [
      "[1, [5, 6], 8]\n"
     ]
    }
   ],
   "source": [
    "list_ = [1, [5,6], 8]\n",
    "print(list_)"
   ]
  },
  {
   "cell_type": "code",
   "execution_count": 4,
   "id": "75fd9400",
   "metadata": {},
   "outputs": [
    {
     "name": "stdout",
     "output_type": "stream",
     "text": [
      "[]\n"
     ]
    }
   ],
   "source": [
    "list1 = []\n",
    "print(list1)"
   ]
  },
  {
   "cell_type": "markdown",
   "id": "471f87db",
   "metadata": {},
   "source": [
    "# Looking Inside Lists"
   ]
  },
  {
   "cell_type": "markdown",
   "id": "0e1112bf",
   "metadata": {},
   "source": [
    "Just like strings, we can get at any single element in a list using an index specified in square brackets"
   ]
  },
  {
   "cell_type": "code",
   "execution_count": 5,
   "id": "c0f06c65",
   "metadata": {},
   "outputs": [
    {
     "name": "stdout",
     "output_type": "stream",
     "text": [
      "Glenn\n"
     ]
    }
   ],
   "source": [
    "friends = ['Joseph', 'Glenn', 'Sally']\n",
    "print(friends[1])"
   ]
  },
  {
   "cell_type": "markdown",
   "id": "890ca71a",
   "metadata": {},
   "source": [
    "# Lists are Mutable"
   ]
  },
  {
   "cell_type": "markdown",
   "id": "f1a8858d",
   "metadata": {},
   "source": [
    "- STRINGS are \"immutable\" - we cannot change the contents of a string - we must make a new string to make any change\n",
    "- Lists are\"mutable\" - we can change an element of a list using the index operator"
   ]
  },
  {
   "cell_type": "code",
   "execution_count": 6,
   "id": "ce7e9362",
   "metadata": {},
   "outputs": [
    {
     "ename": "TypeError",
     "evalue": "'str' object does not support item assignment",
     "output_type": "error",
     "traceback": [
      "\u001b[0;31m---------------------------------------------------------------------------\u001b[0m",
      "\u001b[0;31mTypeError\u001b[0m                                 Traceback (most recent call last)",
      "Cell \u001b[0;32mIn[6], line 2\u001b[0m\n\u001b[1;32m      1\u001b[0m fruit \u001b[38;5;241m=\u001b[39m \u001b[38;5;124m\"\u001b[39m\u001b[38;5;124mBanana\u001b[39m\u001b[38;5;124m\"\u001b[39m\n\u001b[0;32m----> 2\u001b[0m fruit[\u001b[38;5;241m0\u001b[39m] \u001b[38;5;241m=\u001b[39m \u001b[38;5;124m'\u001b[39m\u001b[38;5;124mb\u001b[39m\u001b[38;5;124m'\u001b[39m\n",
      "\u001b[0;31mTypeError\u001b[0m: 'str' object does not support item assignment"
     ]
    }
   ],
   "source": [
    "fruit = \"Banana\"\n",
    "fruit[0] = 'b'"
   ]
  },
  {
   "cell_type": "code",
   "execution_count": 8,
   "id": "6d8aad74",
   "metadata": {},
   "outputs": [
    {
     "name": "stdout",
     "output_type": "stream",
     "text": [
      "banana\n"
     ]
    }
   ],
   "source": [
    "x = fruit.lower()\n",
    "print(x)"
   ]
  },
  {
   "cell_type": "code",
   "execution_count": 10,
   "id": "3c9aaf65",
   "metadata": {},
   "outputs": [
    {
     "name": "stdout",
     "output_type": "stream",
     "text": [
      "[2, 14, 26, 41, 63]\n"
     ]
    }
   ],
   "source": [
    "lotto = [2, 14, 26, 41, 63]\n",
    "print(lotto)"
   ]
  },
  {
   "cell_type": "code",
   "execution_count": 12,
   "id": "4e2e613e",
   "metadata": {},
   "outputs": [
    {
     "name": "stdout",
     "output_type": "stream",
     "text": [
      "[2, 14, '28', 41, 63]\n"
     ]
    }
   ],
   "source": [
    "lotto[2] = '28'\n",
    "print(lotto)"
   ]
  },
  {
   "cell_type": "markdown",
   "id": "3cbb9a62",
   "metadata": {},
   "source": [
    "# How long is a List?"
   ]
  },
  {
   "cell_type": "markdown",
   "id": "d7b36c0c",
   "metadata": {},
   "source": [
    "- the len() function takes a list as a parameter and returns the number of elements in the list\n",
    "- actually len() tells us the number of elements of any set or sequence (such as a string...)"
   ]
  },
  {
   "cell_type": "code",
   "execution_count": 13,
   "id": "79cbe40f",
   "metadata": {},
   "outputs": [
    {
     "name": "stdout",
     "output_type": "stream",
     "text": [
      "9\n"
     ]
    }
   ],
   "source": [
    "greet = 'Hello Bob'\n",
    "print(len(greet))"
   ]
  },
  {
   "cell_type": "code",
   "execution_count": 14,
   "id": "0bb7e7a5",
   "metadata": {},
   "outputs": [
    {
     "name": "stdout",
     "output_type": "stream",
     "text": [
      "4\n"
     ]
    }
   ],
   "source": [
    "x = [1, 2, 'joe', 99]\n",
    "print(len(x))"
   ]
  },
  {
   "cell_type": "markdown",
   "id": "a7698816",
   "metadata": {},
   "source": [
    "# Using the RANGE function"
   ]
  },
  {
   "cell_type": "markdown",
   "id": "2f235406",
   "metadata": {},
   "source": [
    "- the range function returns a list of numbers that range from zero to one less than the parameter\n",
    "- we can construct an index loop using for and an integer iterator"
   ]
  },
  {
   "cell_type": "code",
   "execution_count": 17,
   "id": "7358b060",
   "metadata": {},
   "outputs": [
    {
     "name": "stdout",
     "output_type": "stream",
     "text": [
      "range(0, 4)\n"
     ]
    }
   ],
   "source": [
    "print(range(4))"
   ]
  },
  {
   "cell_type": "code",
   "execution_count": 18,
   "id": "ef1e0437",
   "metadata": {},
   "outputs": [
    {
     "name": "stdout",
     "output_type": "stream",
     "text": [
      "3\n"
     ]
    }
   ],
   "source": [
    "friends = ['Joseph', 'Glenn', 'Sally']\n",
    "print(len(friends))"
   ]
  },
  {
   "cell_type": "code",
   "execution_count": 19,
   "id": "d67515c7",
   "metadata": {},
   "outputs": [
    {
     "name": "stdout",
     "output_type": "stream",
     "text": [
      "range(0, 3)\n"
     ]
    }
   ],
   "source": [
    "print(range(len(friends)))"
   ]
  },
  {
   "cell_type": "code",
   "execution_count": 20,
   "id": "78f19c85",
   "metadata": {},
   "outputs": [
    {
     "name": "stdout",
     "output_type": "stream",
     "text": [
      "Happy New Year: Joseph\n",
      "Happy New Year: Glenn\n",
      "Happy New Year: Sally\n"
     ]
    }
   ],
   "source": [
    "for friend in friends :\n",
    "    print('Happy New Year:', friend)"
   ]
  },
  {
   "cell_type": "code",
   "execution_count": 23,
   "id": "e66ae33e",
   "metadata": {},
   "outputs": [
    {
     "name": "stdout",
     "output_type": "stream",
     "text": [
      "Happy New Year: Joseph\n",
      "Happy New Year: Glenn\n",
      "Happy New Year: Sally\n"
     ]
    }
   ],
   "source": [
    "for i in range(len(friends)) :\n",
    "    friend = friends[i]\n",
    "    print('Happy New Year:', friend)"
   ]
  },
  {
   "cell_type": "markdown",
   "id": "5826d70c",
   "metadata": {},
   "source": [
    "# Concatenating Lists Using +"
   ]
  },
  {
   "cell_type": "markdown",
   "id": "31b0ee3a",
   "metadata": {},
   "source": [
    "- we can create a new list by adding two existing lists together"
   ]
  },
  {
   "cell_type": "code",
   "execution_count": 25,
   "id": "cfc6d25b",
   "metadata": {},
   "outputs": [
    {
     "name": "stdout",
     "output_type": "stream",
     "text": [
      "[1, 2, 3, 4, 5, 6]\n"
     ]
    }
   ],
   "source": [
    "a = [1, 2, 3]\n",
    "b = [4, 5, 6]\n",
    "c = a + b\n",
    "print(c)"
   ]
  },
  {
   "cell_type": "markdown",
   "id": "dbe8ccdd",
   "metadata": {},
   "source": [
    "# Lists can be Sliced using :"
   ]
  },
  {
   "cell_type": "markdown",
   "id": "47a2137b",
   "metadata": {},
   "source": [
    "- REMEMBER: just like in strings, the second number is \"up to but not including\""
   ]
  },
  {
   "cell_type": "code",
   "execution_count": 26,
   "id": "7d3757f7",
   "metadata": {},
   "outputs": [
    {
     "data": {
      "text/plain": [
       "[41, 12]"
      ]
     },
     "execution_count": 26,
     "metadata": {},
     "output_type": "execute_result"
    }
   ],
   "source": [
    "t = [9, 41, 12, 3, 74, 15]\n",
    "t[1:3]"
   ]
  },
  {
   "cell_type": "code",
   "execution_count": 27,
   "id": "08286f0e",
   "metadata": {},
   "outputs": [
    {
     "data": {
      "text/plain": [
       "[9, 41, 12, 3]"
      ]
     },
     "execution_count": 27,
     "metadata": {},
     "output_type": "execute_result"
    }
   ],
   "source": [
    "t[:4]"
   ]
  },
  {
   "cell_type": "code",
   "execution_count": 28,
   "id": "5f136347",
   "metadata": {},
   "outputs": [
    {
     "data": {
      "text/plain": [
       "[3, 74, 15]"
      ]
     },
     "execution_count": 28,
     "metadata": {},
     "output_type": "execute_result"
    }
   ],
   "source": [
    "t[3:]"
   ]
  },
  {
   "cell_type": "code",
   "execution_count": 29,
   "id": "015e018f",
   "metadata": {},
   "outputs": [
    {
     "data": {
      "text/plain": [
       "[9, 41, 12, 3, 74, 15]"
      ]
     },
     "execution_count": 29,
     "metadata": {},
     "output_type": "execute_result"
    }
   ],
   "source": [
    "t[:]"
   ]
  },
  {
   "cell_type": "markdown",
   "id": "251a5d5c",
   "metadata": {},
   "source": [
    "# List Methods"
   ]
  },
  {
   "cell_type": "code",
   "execution_count": 32,
   "id": "76e711fa",
   "metadata": {},
   "outputs": [
    {
     "data": {
      "text/plain": [
       "list"
      ]
     },
     "execution_count": 32,
     "metadata": {},
     "output_type": "execute_result"
    }
   ],
   "source": [
    "x = list()\n",
    "type(x)"
   ]
  },
  {
   "cell_type": "code",
   "execution_count": 33,
   "id": "fac27073",
   "metadata": {},
   "outputs": [
    {
     "data": {
      "text/plain": [
       "['__add__',\n",
       " '__class__',\n",
       " '__class_getitem__',\n",
       " '__contains__',\n",
       " '__delattr__',\n",
       " '__delitem__',\n",
       " '__dir__',\n",
       " '__doc__',\n",
       " '__eq__',\n",
       " '__format__',\n",
       " '__ge__',\n",
       " '__getattribute__',\n",
       " '__getitem__',\n",
       " '__gt__',\n",
       " '__hash__',\n",
       " '__iadd__',\n",
       " '__imul__',\n",
       " '__init__',\n",
       " '__init_subclass__',\n",
       " '__iter__',\n",
       " '__le__',\n",
       " '__len__',\n",
       " '__lt__',\n",
       " '__mul__',\n",
       " '__ne__',\n",
       " '__new__',\n",
       " '__reduce__',\n",
       " '__reduce_ex__',\n",
       " '__repr__',\n",
       " '__reversed__',\n",
       " '__rmul__',\n",
       " '__setattr__',\n",
       " '__setitem__',\n",
       " '__sizeof__',\n",
       " '__str__',\n",
       " '__subclasshook__',\n",
       " 'append',\n",
       " 'clear',\n",
       " 'copy',\n",
       " 'count',\n",
       " 'extend',\n",
       " 'index',\n",
       " 'insert',\n",
       " 'pop',\n",
       " 'remove',\n",
       " 'reverse',\n",
       " 'sort']"
      ]
     },
     "execution_count": 33,
     "metadata": {},
     "output_type": "execute_result"
    }
   ],
   "source": [
    "dir(x)"
   ]
  },
  {
   "cell_type": "markdown",
   "id": "ea2eec01",
   "metadata": {},
   "source": [
    "# Building a List from Scratch"
   ]
  },
  {
   "cell_type": "markdown",
   "id": "62509c02",
   "metadata": {},
   "source": [
    "- we can create an empty list and then add elements using the append method\n",
    "- the list stays in order and new elements are added at the end of the list"
   ]
  },
  {
   "cell_type": "code",
   "execution_count": 34,
   "id": "2c420cc8",
   "metadata": {},
   "outputs": [
    {
     "name": "stdout",
     "output_type": "stream",
     "text": [
      "['book', 99]\n"
     ]
    }
   ],
   "source": [
    "stuff = list()\n",
    "stuff.append('book')\n",
    "stuff.append(99)\n",
    "print(stuff)"
   ]
  },
  {
   "cell_type": "code",
   "execution_count": 36,
   "id": "4a32c159",
   "metadata": {},
   "outputs": [
    {
     "name": "stdout",
     "output_type": "stream",
     "text": [
      "['book', 99, 'cookie', 'cookie']\n"
     ]
    }
   ],
   "source": [
    "stuff.append('cookie')\n",
    "print(stuff)"
   ]
  },
  {
   "cell_type": "markdown",
   "id": "9e9b63f1",
   "metadata": {},
   "source": [
    "# Is something in a List?"
   ]
  },
  {
   "cell_type": "markdown",
   "id": "a2c95a3a",
   "metadata": {},
   "source": [
    "- Python provides two operators that let you check if an item is in a list\n",
    "- these are logical operators that return True or False\n",
    "- they do not modify the list"
   ]
  },
  {
   "cell_type": "code",
   "execution_count": 37,
   "id": "022bf7f9",
   "metadata": {},
   "outputs": [
    {
     "data": {
      "text/plain": [
       "True"
      ]
     },
     "execution_count": 37,
     "metadata": {},
     "output_type": "execute_result"
    }
   ],
   "source": [
    "some = [1, 9, 21, 10 , 16]\n",
    "9 in some"
   ]
  },
  {
   "cell_type": "code",
   "execution_count": 38,
   "id": "46207223",
   "metadata": {},
   "outputs": [
    {
     "data": {
      "text/plain": [
       "False"
      ]
     },
     "execution_count": 38,
     "metadata": {},
     "output_type": "execute_result"
    }
   ],
   "source": [
    "15 in some"
   ]
  },
  {
   "cell_type": "code",
   "execution_count": 39,
   "id": "b0865d23",
   "metadata": {},
   "outputs": [
    {
     "data": {
      "text/plain": [
       "True"
      ]
     },
     "execution_count": 39,
     "metadata": {},
     "output_type": "execute_result"
    }
   ],
   "source": [
    "20 not in some"
   ]
  },
  {
   "cell_type": "markdown",
   "id": "ac073b33",
   "metadata": {},
   "source": [
    "# Lists are in Order"
   ]
  },
  {
   "cell_type": "markdown",
   "id": "e97d0229",
   "metadata": {},
   "source": [
    "- a list can hold many items and keeps those items in the order until we do something to change the order\n",
    "- a list can be sorted (i.e., change its order)\n",
    "- the sort method (unlike in strings) means \"sort yourself\""
   ]
  },
  {
   "cell_type": "code",
   "execution_count": 40,
   "id": "267f1cff",
   "metadata": {},
   "outputs": [
    {
     "name": "stdout",
     "output_type": "stream",
     "text": [
      "['Glenn', 'Joseph', 'Sally']\n"
     ]
    }
   ],
   "source": [
    "friends = ['Joseph', 'Glenn', 'Sally']\n",
    "friends.sort()\n",
    "print(friends)"
   ]
  },
  {
   "cell_type": "code",
   "execution_count": 41,
   "id": "63103e4e",
   "metadata": {},
   "outputs": [
    {
     "name": "stdout",
     "output_type": "stream",
     "text": [
      "Joseph\n"
     ]
    }
   ],
   "source": [
    "print(friends[1])"
   ]
  },
  {
   "cell_type": "markdown",
   "id": "a2b72325",
   "metadata": {},
   "source": [
    "# Built-in Functions and Lists"
   ]
  },
  {
   "cell_type": "markdown",
   "id": "aec82e54",
   "metadata": {},
   "source": [
    "- there are a number of functions built into Python that take lists as parameters"
   ]
  },
  {
   "cell_type": "code",
   "execution_count": 42,
   "id": "8b513db4",
   "metadata": {},
   "outputs": [
    {
     "name": "stdout",
     "output_type": "stream",
     "text": [
      "6\n"
     ]
    }
   ],
   "source": [
    "nums = [3, 41, 12, 9, 74, 15]\n",
    "print(len(nums))"
   ]
  },
  {
   "cell_type": "code",
   "execution_count": 43,
   "id": "228494c7",
   "metadata": {},
   "outputs": [
    {
     "name": "stdout",
     "output_type": "stream",
     "text": [
      "74\n"
     ]
    }
   ],
   "source": [
    "print(max(nums))"
   ]
  },
  {
   "cell_type": "code",
   "execution_count": 44,
   "id": "888a1268",
   "metadata": {},
   "outputs": [
    {
     "data": {
      "text/plain": [
       "3"
      ]
     },
     "execution_count": 44,
     "metadata": {},
     "output_type": "execute_result"
    }
   ],
   "source": [
    "(min(nums))"
   ]
  },
  {
   "cell_type": "code",
   "execution_count": 46,
   "id": "dc52a711",
   "metadata": {},
   "outputs": [
    {
     "data": {
      "text/plain": [
       "154"
      ]
     },
     "execution_count": 46,
     "metadata": {},
     "output_type": "execute_result"
    }
   ],
   "source": [
    "sum(nums)"
   ]
  },
  {
   "cell_type": "code",
   "execution_count": 47,
   "id": "5a2cad61",
   "metadata": {},
   "outputs": [
    {
     "data": {
      "text/plain": [
       "25.666666666666668"
      ]
     },
     "execution_count": 47,
     "metadata": {},
     "output_type": "execute_result"
    }
   ],
   "source": [
    "sum(nums)/len(nums)"
   ]
  },
  {
   "cell_type": "code",
   "execution_count": 49,
   "id": "f8b1528f",
   "metadata": {},
   "outputs": [
    {
     "name": "stdout",
     "output_type": "stream",
     "text": [
      "Enter a number: 3\n",
      "Enter a number: 9\n",
      "Enter a number: 5\n",
      "Enter a number: done\n",
      "Average: 5.666666666666667\n"
     ]
    }
   ],
   "source": [
    "numlist = list()\n",
    "while True:\n",
    "    inp = input('Enter a number: ')\n",
    "    if inp == 'done' : break\n",
    "    value = float(inp)\n",
    "    numlist.append(value)\n",
    "        \n",
    "average = sum(numlist) / len(numlist)\n",
    "print('Average:', average)"
   ]
  }
 ],
 "metadata": {
  "kernelspec": {
   "display_name": "Python 3 (ipykernel)",
   "language": "python",
   "name": "python3"
  },
  "language_info": {
   "codemirror_mode": {
    "name": "ipython",
    "version": 3
   },
   "file_extension": ".py",
   "mimetype": "text/x-python",
   "name": "python",
   "nbconvert_exporter": "python",
   "pygments_lexer": "ipython3",
   "version": "3.10.11"
  }
 },
 "nbformat": 4,
 "nbformat_minor": 5
}
