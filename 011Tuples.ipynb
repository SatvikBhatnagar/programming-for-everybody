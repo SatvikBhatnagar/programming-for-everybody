{
 "cells": [
  {
   "cell_type": "markdown",
   "id": "c6108582",
   "metadata": {},
   "source": [
    "# Tuples are like Lists"
   ]
  },
  {
   "cell_type": "markdown",
   "id": "d354780e",
   "metadata": {},
   "source": [
    "Tuples are another kind of sequence that functions much like a list - they have elements which are indexed starting at 0"
   ]
  },
  {
   "cell_type": "code",
   "execution_count": 1,
   "id": "86004480",
   "metadata": {},
   "outputs": [
    {
     "name": "stdout",
     "output_type": "stream",
     "text": [
      "Joseph\n"
     ]
    }
   ],
   "source": [
    "x = ('Glenn', 'Sally', 'Joseph')\n",
    "print(x[2])"
   ]
  },
  {
   "cell_type": "code",
   "execution_count": 2,
   "id": "43f27222",
   "metadata": {},
   "outputs": [
    {
     "name": "stdout",
     "output_type": "stream",
     "text": [
      "(1, 9, 2)\n"
     ]
    }
   ],
   "source": [
    "y = (1, 9, 2)\n",
    "print(y)"
   ]
  },
  {
   "cell_type": "code",
   "execution_count": 3,
   "id": "1cd43aa5",
   "metadata": {},
   "outputs": [
    {
     "name": "stdout",
     "output_type": "stream",
     "text": [
      "9\n"
     ]
    }
   ],
   "source": [
    "print(max(y))"
   ]
  },
  {
   "cell_type": "markdown",
   "id": "47a52e99",
   "metadata": {},
   "source": [
    "# but... Tuples are \"immutable\""
   ]
  },
  {
   "cell_type": "markdown",
   "id": "4356ebc5",
   "metadata": {},
   "source": [
    "unlike a list, once you create a tuple, you cannot alter its contents - similar to a string"
   ]
  },
  {
   "cell_type": "code",
   "execution_count": 4,
   "id": "88bfbd3b",
   "metadata": {},
   "outputs": [
    {
     "name": "stdout",
     "output_type": "stream",
     "text": [
      "[9, 8, 6]\n"
     ]
    }
   ],
   "source": [
    "x = [9, 8, 7]\n",
    "x[2] = 6\n",
    "print(x)"
   ]
  },
  {
   "cell_type": "code",
   "execution_count": 5,
   "id": "4341cfb4",
   "metadata": {},
   "outputs": [
    {
     "ename": "TypeError",
     "evalue": "'str' object does not support item assignment",
     "output_type": "error",
     "traceback": [
      "\u001b[0;31m---------------------------------------------------------------------------\u001b[0m",
      "\u001b[0;31mTypeError\u001b[0m                                 Traceback (most recent call last)",
      "Cell \u001b[0;32mIn[5], line 2\u001b[0m\n\u001b[1;32m      1\u001b[0m y \u001b[38;5;241m=\u001b[39m \u001b[38;5;124m'\u001b[39m\u001b[38;5;124mABC\u001b[39m\u001b[38;5;124m'\u001b[39m\n\u001b[0;32m----> 2\u001b[0m y[\u001b[38;5;241m2\u001b[39m] \u001b[38;5;241m=\u001b[39m \u001b[38;5;124m'\u001b[39m\u001b[38;5;124mD\u001b[39m\u001b[38;5;124m'\u001b[39m\n",
      "\u001b[0;31mTypeError\u001b[0m: 'str' object does not support item assignment"
     ]
    }
   ],
   "source": [
    "y = 'ABC'\n",
    "y[2] = 'D'"
   ]
  },
  {
   "cell_type": "code",
   "execution_count": 6,
   "id": "d5c181a0",
   "metadata": {},
   "outputs": [
    {
     "ename": "TypeError",
     "evalue": "'tuple' object does not support item assignment",
     "output_type": "error",
     "traceback": [
      "\u001b[0;31m---------------------------------------------------------------------------\u001b[0m",
      "\u001b[0;31mTypeError\u001b[0m                                 Traceback (most recent call last)",
      "Cell \u001b[0;32mIn[6], line 2\u001b[0m\n\u001b[1;32m      1\u001b[0m z \u001b[38;5;241m=\u001b[39m (\u001b[38;5;241m5\u001b[39m, \u001b[38;5;241m4\u001b[39m, \u001b[38;5;241m3\u001b[39m)\n\u001b[0;32m----> 2\u001b[0m z[\u001b[38;5;241m2\u001b[39m] \u001b[38;5;241m=\u001b[39m \u001b[38;5;241m0\u001b[39m\n",
      "\u001b[0;31mTypeError\u001b[0m: 'tuple' object does not support item assignment"
     ]
    }
   ],
   "source": [
    "z = (5, 4, 3)\n",
    "z[2] = 0"
   ]
  },
  {
   "cell_type": "markdown",
   "id": "dc8cb3a0",
   "metadata": {},
   "source": [
    "# Things NOT to do with Tuples"
   ]
  },
  {
   "cell_type": "code",
   "execution_count": 7,
   "id": "b71c997a",
   "metadata": {},
   "outputs": [
    {
     "ename": "AttributeError",
     "evalue": "'tuple' object has no attribute 'sort'",
     "output_type": "error",
     "traceback": [
      "\u001b[0;31m---------------------------------------------------------------------------\u001b[0m",
      "\u001b[0;31mAttributeError\u001b[0m                            Traceback (most recent call last)",
      "Cell \u001b[0;32mIn[7], line 2\u001b[0m\n\u001b[1;32m      1\u001b[0m x \u001b[38;5;241m=\u001b[39m (\u001b[38;5;241m3\u001b[39m, \u001b[38;5;241m2\u001b[39m, \u001b[38;5;241m1\u001b[39m)\n\u001b[0;32m----> 2\u001b[0m \u001b[43mx\u001b[49m\u001b[38;5;241;43m.\u001b[39;49m\u001b[43msort\u001b[49m()\n",
      "\u001b[0;31mAttributeError\u001b[0m: 'tuple' object has no attribute 'sort'"
     ]
    }
   ],
   "source": [
    "x = (3, 2, 1)\n",
    "x.sort()"
   ]
  },
  {
   "cell_type": "markdown",
   "id": "5efdc297",
   "metadata": {},
   "source": [
    "# Tuples as a subset of list"
   ]
  },
  {
   "cell_type": "markdown",
   "id": "3be54ee9",
   "metadata": {},
   "source": [
    "count and index only"
   ]
  },
  {
   "cell_type": "code",
   "execution_count": 8,
   "id": "eb5266f6",
   "metadata": {
    "scrolled": true
   },
   "outputs": [
    {
     "data": {
      "text/plain": [
       "['__add__',\n",
       " '__class__',\n",
       " '__class_getitem__',\n",
       " '__contains__',\n",
       " '__delattr__',\n",
       " '__delitem__',\n",
       " '__dir__',\n",
       " '__doc__',\n",
       " '__eq__',\n",
       " '__format__',\n",
       " '__ge__',\n",
       " '__getattribute__',\n",
       " '__getitem__',\n",
       " '__gt__',\n",
       " '__hash__',\n",
       " '__iadd__',\n",
       " '__imul__',\n",
       " '__init__',\n",
       " '__init_subclass__',\n",
       " '__iter__',\n",
       " '__le__',\n",
       " '__len__',\n",
       " '__lt__',\n",
       " '__mul__',\n",
       " '__ne__',\n",
       " '__new__',\n",
       " '__reduce__',\n",
       " '__reduce_ex__',\n",
       " '__repr__',\n",
       " '__reversed__',\n",
       " '__rmul__',\n",
       " '__setattr__',\n",
       " '__setitem__',\n",
       " '__sizeof__',\n",
       " '__str__',\n",
       " '__subclasshook__',\n",
       " 'append',\n",
       " 'clear',\n",
       " 'copy',\n",
       " 'count',\n",
       " 'extend',\n",
       " 'index',\n",
       " 'insert',\n",
       " 'pop',\n",
       " 'remove',\n",
       " 'reverse',\n",
       " 'sort']"
      ]
     },
     "execution_count": 8,
     "metadata": {},
     "output_type": "execute_result"
    }
   ],
   "source": [
    "l = list()\n",
    "dir(l)"
   ]
  },
  {
   "cell_type": "code",
   "execution_count": 9,
   "id": "15088515",
   "metadata": {
    "scrolled": true
   },
   "outputs": [
    {
     "data": {
      "text/plain": [
       "['__add__',\n",
       " '__class__',\n",
       " '__class_getitem__',\n",
       " '__contains__',\n",
       " '__delattr__',\n",
       " '__dir__',\n",
       " '__doc__',\n",
       " '__eq__',\n",
       " '__format__',\n",
       " '__ge__',\n",
       " '__getattribute__',\n",
       " '__getitem__',\n",
       " '__getnewargs__',\n",
       " '__gt__',\n",
       " '__hash__',\n",
       " '__init__',\n",
       " '__init_subclass__',\n",
       " '__iter__',\n",
       " '__le__',\n",
       " '__len__',\n",
       " '__lt__',\n",
       " '__mul__',\n",
       " '__ne__',\n",
       " '__new__',\n",
       " '__reduce__',\n",
       " '__reduce_ex__',\n",
       " '__repr__',\n",
       " '__rmul__',\n",
       " '__setattr__',\n",
       " '__sizeof__',\n",
       " '__str__',\n",
       " '__subclasshook__',\n",
       " 'count',\n",
       " 'index']"
      ]
     },
     "execution_count": 9,
     "metadata": {},
     "output_type": "execute_result"
    }
   ],
   "source": [
    "t = tuple()\n",
    "dir(t)"
   ]
  },
  {
   "cell_type": "markdown",
   "id": "1a468cac",
   "metadata": {},
   "source": [
    "# Tuples are More Efficient"
   ]
  },
  {
   "cell_type": "markdown",
   "id": "7b596484",
   "metadata": {},
   "source": [
    "- since Python does not have to build tuple structures to be modifiable, they are simpler and more efficient in terms of memory use and performance than lists\n",
    "- so in our program when we are making \"temporary variables\", WE PREFER TUPLES OVER LISTS"
   ]
  },
  {
   "cell_type": "markdown",
   "id": "3901e963",
   "metadata": {},
   "source": [
    "# Tuples and Assignments"
   ]
  },
  {
   "cell_type": "markdown",
   "id": "b50b7758",
   "metadata": {},
   "source": [
    "- we can also put a Tuple on the left-hand side of an assignment statement\n",
    "- we can even omit the parantheses"
   ]
  },
  {
   "cell_type": "code",
   "execution_count": 10,
   "id": "23f3fa50",
   "metadata": {},
   "outputs": [
    {
     "name": "stdout",
     "output_type": "stream",
     "text": [
      "fred\n"
     ]
    }
   ],
   "source": [
    "(x, y) = (4, 'fred')\n",
    "print(y)"
   ]
  },
  {
   "cell_type": "code",
   "execution_count": 11,
   "id": "9736afae",
   "metadata": {},
   "outputs": [
    {
     "name": "stdout",
     "output_type": "stream",
     "text": [
      "99\n"
     ]
    }
   ],
   "source": [
    "(a, b) = (99, 98)\n",
    "print(a)"
   ]
  },
  {
   "cell_type": "markdown",
   "id": "dccdeccd",
   "metadata": {},
   "source": [
    "# Tuples and Dictionaries"
   ]
  },
  {
   "cell_type": "markdown",
   "id": "7998a803",
   "metadata": {},
   "source": [
    "- the items() method in dictionaries returns a list of (key, value) tuples"
   ]
  },
  {
   "cell_type": "code",
   "execution_count": 13,
   "id": "5c7ac4dc",
   "metadata": {},
   "outputs": [
    {
     "name": "stdout",
     "output_type": "stream",
     "text": [
      "csev 2\n",
      "cwen 4\n"
     ]
    }
   ],
   "source": [
    "d = dict()\n",
    "d['csev'] = 2\n",
    "d['cwen'] = 4\n",
    "for (k, v) in d.items() :\n",
    "    print(k, v)"
   ]
  },
  {
   "cell_type": "code",
   "execution_count": 15,
   "id": "51fcede3",
   "metadata": {},
   "outputs": [
    {
     "name": "stdout",
     "output_type": "stream",
     "text": [
      "dict_items([('csev', 2), ('cwen', 4)])\n"
     ]
    }
   ],
   "source": [
    "tups = d.items()\n",
    "print(tups) #returns a list of tuples"
   ]
  },
  {
   "cell_type": "markdown",
   "id": "e8ca7f26",
   "metadata": {},
   "source": [
    "# Tuples are Comparable"
   ]
  },
  {
   "cell_type": "markdown",
   "id": "9d3f9744",
   "metadata": {},
   "source": [
    "- The comparison operators work with Typles and other sequences. If the first item is equal, Python goes on to the next element, and so on, until it finds elements that differ"
   ]
  },
  {
   "cell_type": "code",
   "execution_count": 16,
   "id": "ed1ffbc9",
   "metadata": {},
   "outputs": [
    {
     "data": {
      "text/plain": [
       "True"
      ]
     },
     "execution_count": 16,
     "metadata": {},
     "output_type": "execute_result"
    }
   ],
   "source": [
    "(0, 1, 2) < (5, 1, 2)"
   ]
  },
  {
   "cell_type": "code",
   "execution_count": 17,
   "id": "add2a58c",
   "metadata": {},
   "outputs": [
    {
     "data": {
      "text/plain": [
       "True"
      ]
     },
     "execution_count": 17,
     "metadata": {},
     "output_type": "execute_result"
    }
   ],
   "source": [
    "(0, 1, 2000000) < (0, 3, 4)"
   ]
  },
  {
   "cell_type": "code",
   "execution_count": 18,
   "id": "da22d61f",
   "metadata": {},
   "outputs": [
    {
     "data": {
      "text/plain": [
       "True"
      ]
     },
     "execution_count": 18,
     "metadata": {},
     "output_type": "execute_result"
    }
   ],
   "source": [
    "('Jones', 'Sally') < ('Jones', 'Sam')"
   ]
  },
  {
   "cell_type": "code",
   "execution_count": 19,
   "id": "a414c4e6",
   "metadata": {},
   "outputs": [
    {
     "data": {
      "text/plain": [
       "True"
      ]
     },
     "execution_count": 19,
     "metadata": {},
     "output_type": "execute_result"
    }
   ],
   "source": [
    "('Jones', 'Sally') > ('Adams', 'Sam')"
   ]
  },
  {
   "cell_type": "markdown",
   "id": "766aa9af",
   "metadata": {},
   "source": [
    "# Sorting Lists of Tuples"
   ]
  },
  {
   "cell_type": "markdown",
   "id": "65cfb95e",
   "metadata": {},
   "source": [
    "- we can take advantage of the ability to sort a list of tuples to get a sorted version of a dictionary\n",
    "- first we sort the dictionary by the key using the items() method and sorted function"
   ]
  },
  {
   "cell_type": "code",
   "execution_count": 20,
   "id": "dbc78578",
   "metadata": {},
   "outputs": [
    {
     "data": {
      "text/plain": [
       "dict_items([('a', 10), ('b', 1), ('c', 22)])"
      ]
     },
     "execution_count": 20,
     "metadata": {},
     "output_type": "execute_result"
    }
   ],
   "source": [
    "d = {'a': 10, 'b': 1, 'c': 22}\n",
    "d.items()"
   ]
  },
  {
   "cell_type": "code",
   "execution_count": 21,
   "id": "60193c51",
   "metadata": {},
   "outputs": [
    {
     "data": {
      "text/plain": [
       "[('a', 10), ('b', 1), ('c', 22)]"
      ]
     },
     "execution_count": 21,
     "metadata": {},
     "output_type": "execute_result"
    }
   ],
   "source": [
    "sorted(d.items())"
   ]
  },
  {
   "cell_type": "markdown",
   "id": "4d8ea2d0",
   "metadata": {},
   "source": [
    "# Using sorted()"
   ]
  },
  {
   "cell_type": "markdown",
   "id": "a165f4a0",
   "metadata": {},
   "source": [
    "- we can do this even more directly using the built-in function sorted that takes a sequence as a parameter and returns a sorted sequence"
   ]
  },
  {
   "cell_type": "code",
   "execution_count": 22,
   "id": "0ccaea45",
   "metadata": {},
   "outputs": [
    {
     "data": {
      "text/plain": [
       "[('a', 10), ('b', 1), ('c', 22)]"
      ]
     },
     "execution_count": 22,
     "metadata": {},
     "output_type": "execute_result"
    }
   ],
   "source": [
    "d = {'a': 10, 'b': 1, 'c': 22}\n",
    "t = sorted(d.items())\n",
    "t"
   ]
  },
  {
   "cell_type": "code",
   "execution_count": 23,
   "id": "98c1f2a5",
   "metadata": {},
   "outputs": [
    {
     "name": "stdout",
     "output_type": "stream",
     "text": [
      "a 10\n",
      "b 1\n",
      "c 22\n"
     ]
    }
   ],
   "source": [
    "for k, v in sorted(d.items()) :\n",
    "    print(k, v)"
   ]
  },
  {
   "cell_type": "markdown",
   "id": "ce063a99",
   "metadata": {},
   "source": [
    "# Sort by Values instead of Key"
   ]
  },
  {
   "cell_type": "markdown",
   "id": "e3c12f63",
   "metadata": {},
   "source": [
    "- if we could construct a list of tuples of the form (value, key) we could sort by value\n",
    "- we do this with a for loop that creates a list of tuples"
   ]
  },
  {
   "cell_type": "code",
   "execution_count": 24,
   "id": "087def6b",
   "metadata": {},
   "outputs": [
    {
     "name": "stdout",
     "output_type": "stream",
     "text": [
      "[(10, 'a'), (1, 'b'), (22, 'c')]\n"
     ]
    }
   ],
   "source": [
    "c = {'a': 10, 'b': 1, 'c': 22}\n",
    "tmp = list()\n",
    "for k, v in c.items() :\n",
    "    tmp.append( (v, k) )\n",
    "print(tmp)"
   ]
  },
  {
   "cell_type": "code",
   "execution_count": 25,
   "id": "e69dc9d9",
   "metadata": {},
   "outputs": [
    {
     "name": "stdout",
     "output_type": "stream",
     "text": [
      "[(22, 'c'), (10, 'a'), (1, 'b')]\n"
     ]
    }
   ],
   "source": [
    "tmp = sorted(tmp, reverse = True)\n",
    "print(tmp)"
   ]
  },
  {
   "cell_type": "markdown",
   "id": "3000d0ec",
   "metadata": {},
   "source": [
    "#### Solving a problem with this"
   ]
  },
  {
   "cell_type": "code",
   "execution_count": 29,
   "id": "92e4f46c",
   "metadata": {},
   "outputs": [
    {
     "name": "stdout",
     "output_type": "stream",
     "text": [
      "the 3\n",
      "is 3\n",
      "and 3\n",
      "sun 2\n",
      "yonder 1\n",
      "with 1\n",
      "window 1\n",
      "what 1\n",
      "through 1\n",
      "soft 1\n"
     ]
    }
   ],
   "source": [
    "#finding top 10 most common words\n",
    "fhand = open('romeo.txt')\n",
    "counts = dict()\n",
    "for line in fhand :\n",
    "    words = line.split()\n",
    "    for word in words :\n",
    "        counts[word] = counts.get(word, 0) + 1\n",
    "\n",
    "lst = list()\n",
    "for key, val in counts.items() :\n",
    "    newtup = (val, key)\n",
    "    lst.append(newtup)\n",
    "    \n",
    "lst = sorted(lst, reverse = True)\n",
    "\n",
    "for val, key in lst[:10] :\n",
    "    print(key, val)"
   ]
  },
  {
   "cell_type": "markdown",
   "id": "f950c6e8",
   "metadata": {},
   "source": [
    "###### re-writing the above code in short!"
   ]
  },
  {
   "cell_type": "code",
   "execution_count": 51,
   "id": "6879a1f2",
   "metadata": {},
   "outputs": [
    {
     "name": "stdout",
     "output_type": "stream",
     "text": [
      "the 3\n",
      "is 3\n",
      "and 3\n",
      "sun 2\n",
      "yonder 1\n",
      "with 1\n",
      "window 1\n",
      "what 1\n",
      "through 1\n",
      "soft 1\n"
     ]
    }
   ],
   "source": [
    "fhand = open('romeo.txt')\n",
    "counts = dict()\n",
    "for line in fhand :\n",
    "    words = line.split()\n",
    "    for word in words :\n",
    "        counts[word] = counts.get(word, 0) + 1\n",
    "\n",
    "lst = (sorted([(v, k) for k, v in counts.items()], reverse = True)[:10])\n",
    "for v,k in lst : print(k,v)\n",
    "#for v, k in (sorted([(v, k) for k, v in counts.items()], reverse = True)[:10]) : print(k,v)"
   ]
  },
  {
   "cell_type": "code",
   "execution_count": 35,
   "id": "e6d1f86f",
   "metadata": {},
   "outputs": [
    {
     "name": "stdout",
     "output_type": "stream",
     "text": [
      "[(1, 'b'), (10, 'a'), (22, 'c')]\n"
     ]
    }
   ],
   "source": [
    "#list comprehension creates a dynamic list. In this case, we make a list of reversed tuples and then sort it\n",
    "c = {'a': 10, 'b': 1, 'c': 22}\n",
    "print( sorted( [(v,k) for k,v in c.items() ] ) )"
   ]
  },
  {
   "cell_type": "markdown",
   "id": "211397a8",
   "metadata": {},
   "source": [
    "Assignment 10.2"
   ]
  },
  {
   "cell_type": "raw",
   "id": "746cf4eb",
   "metadata": {},
   "source": [
    "Write a program to read through the mbox-short.txt and figure out the distribution by hour of the day for each of the messages. You can pull the hour out from the 'From ' line by finding the time and then splitting the string a second time using a colon.\n",
    "\n",
    "From stephen.marquard@uct.ac.za Sat Jan  5 09:14:16 2008\n",
    "\n",
    "Once you have accumulated the counts for each hour, print out the counts, sorted by hour."
   ]
  },
  {
   "cell_type": "code",
   "execution_count": 76,
   "id": "913f6068",
   "metadata": {},
   "outputs": [
    {
     "name": "stdout",
     "output_type": "stream",
     "text": [
      "04 3\n",
      "06 1\n",
      "07 1\n",
      "09 2\n",
      "10 3\n",
      "11 6\n",
      "14 1\n",
      "15 2\n",
      "16 4\n",
      "17 2\n",
      "18 1\n",
      "19 1\n"
     ]
    }
   ],
   "source": [
    "fhand = open('mbox-short.txt')\n",
    "counts = dict()\n",
    "for line in fhand :\n",
    "    line = line.rstrip()\n",
    "    if not line.startswith('From ') : continue\n",
    "    time = line.split()[5]\n",
    "    hour = time.split(':')[0]\n",
    "    counts[hour] = counts.get(hour, 0) + 1\n",
    "#lst = sorted([(k,v) for v,k in counts.items()])\n",
    "lst = sorted([(k,v) for (k, v) in counts.items()])\n",
    "for k, v in lst :\n",
    "    print(k, v)"
   ]
  }
 ],
 "metadata": {
  "kernelspec": {
   "display_name": "Python 3 (ipykernel)",
   "language": "python",
   "name": "python3"
  },
  "language_info": {
   "codemirror_mode": {
    "name": "ipython",
    "version": 3
   },
   "file_extension": ".py",
   "mimetype": "text/x-python",
   "name": "python",
   "nbconvert_exporter": "python",
   "pygments_lexer": "ipython3",
   "version": "3.10.11"
  }
 },
 "nbformat": 4,
 "nbformat_minor": 5
}
