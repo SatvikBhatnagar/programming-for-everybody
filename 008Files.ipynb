{
 "cells": [
  {
   "cell_type": "markdown",
   "id": "f0755588",
   "metadata": {},
   "source": [
    "# File Processing"
   ]
  },
  {
   "cell_type": "markdown",
   "id": "fe7bad16",
   "metadata": {},
   "source": [
    "a text file can be thought of as a sequence of lines"
   ]
  },
  {
   "cell_type": "markdown",
   "id": "aa18d1f5",
   "metadata": {},
   "source": [
    "- before we can read the contents of the file, we must tell Python which file we are going to work with and what we will be doing with the file\n",
    "- this is done with the open() function\n",
    "- open() returns a \"file handle\" - a variable used to perform operations on the file\n",
    "- similar to \"File -> Open\" in a Word Processor"
   ]
  },
  {
   "cell_type": "markdown",
   "id": "be632bab",
   "metadata": {},
   "source": [
    "# Using open()"
   ]
  },
  {
   "cell_type": "raw",
   "id": "d804a0a7",
   "metadata": {},
   "source": [
    "- handle = open(filename, mode)\n",
    "- returns a handle use to manipulate the file\n",
    "- filename is a string\n",
    "- mode is optional and should be 'r' if we are planning to read the file and 'w' if we are going to write to the file"
   ]
  },
  {
   "cell_type": "markdown",
   "id": "f8702445",
   "metadata": {},
   "source": [
    "# What is a Handle?"
   ]
  },
  {
   "cell_type": "code",
   "execution_count": 2,
   "id": "ada7bc71",
   "metadata": {},
   "outputs": [
    {
     "name": "stdout",
     "output_type": "stream",
     "text": [
      "<_io.TextIOWrapper name='mbox-short.txt' mode='r' encoding='UTF-8'>\n"
     ]
    }
   ],
   "source": [
    "fhand = open('mbox-short.txt')\n",
    "print(fhand)"
   ]
  },
  {
   "cell_type": "markdown",
   "id": "a1a30ac1",
   "metadata": {},
   "source": [
    "# The newline Character"
   ]
  },
  {
   "cell_type": "markdown",
   "id": "90521881",
   "metadata": {},
   "source": [
    "- we use a special character called the \"newline\" to indicate when a line ends\n",
    "- we represent it as \\n in strings\n",
    "- newline is still one character - not two"
   ]
  },
  {
   "cell_type": "code",
   "execution_count": 4,
   "id": "fe94d1aa",
   "metadata": {},
   "outputs": [
    {
     "data": {
      "text/plain": [
       "'Hello\\nWorld!'"
      ]
     },
     "execution_count": 4,
     "metadata": {},
     "output_type": "execute_result"
    }
   ],
   "source": [
    "stuff = \"Hello\\nWorld!\"\n",
    "stuff"
   ]
  },
  {
   "cell_type": "code",
   "execution_count": 5,
   "id": "586c25c0",
   "metadata": {},
   "outputs": [
    {
     "name": "stdout",
     "output_type": "stream",
     "text": [
      "Hello\n",
      "World!\n"
     ]
    }
   ],
   "source": [
    "print(stuff)"
   ]
  },
  {
   "cell_type": "code",
   "execution_count": 6,
   "id": "f6a6e774",
   "metadata": {},
   "outputs": [
    {
     "name": "stdout",
     "output_type": "stream",
     "text": [
      "X\n",
      "Y\n"
     ]
    }
   ],
   "source": [
    "stuff2 = 'X\\nY'\n",
    "print(stuff2)"
   ]
  },
  {
   "cell_type": "code",
   "execution_count": 7,
   "id": "371eb1d0",
   "metadata": {},
   "outputs": [
    {
     "data": {
      "text/plain": [
       "3"
      ]
     },
     "execution_count": 7,
     "metadata": {},
     "output_type": "execute_result"
    }
   ],
   "source": [
    "len(stuff2)\n",
    "#note its 3 not 4"
   ]
  },
  {
   "cell_type": "code",
   "execution_count": null,
   "id": "f8a0fe3d",
   "metadata": {},
   "outputs": [],
   "source": []
  }
 ],
 "metadata": {
  "kernelspec": {
   "display_name": "Python 3 (ipykernel)",
   "language": "python",
   "name": "python3"
  },
  "language_info": {
   "codemirror_mode": {
    "name": "ipython",
    "version": 3
   },
   "file_extension": ".py",
   "mimetype": "text/x-python",
   "name": "python",
   "nbconvert_exporter": "python",
   "pygments_lexer": "ipython3",
   "version": "3.10.11"
  }
 },
 "nbformat": 4,
 "nbformat_minor": 5
}
