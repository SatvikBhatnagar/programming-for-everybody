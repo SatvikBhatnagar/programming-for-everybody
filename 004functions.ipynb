{
 "cells": [
  {
   "cell_type": "markdown",
   "id": "aabef77f",
   "metadata": {},
   "source": [
    "# Functions"
   ]
  },
  {
   "cell_type": "code",
   "execution_count": 3,
   "id": "8da00dcf",
   "metadata": {},
   "outputs": [],
   "source": [
    "#dry - don't repeat yourself"
   ]
  },
  {
   "cell_type": "code",
   "execution_count": 4,
   "id": "d092cb45",
   "metadata": {},
   "outputs": [],
   "source": [
    "def thing():\n",
    "    print(\"Hello\")\n",
    "    print(\"Fun\")"
   ]
  },
  {
   "cell_type": "code",
   "execution_count": 6,
   "id": "ffb396b1",
   "metadata": {},
   "outputs": [
    {
     "name": "stdout",
     "output_type": "stream",
     "text": [
      "Hello\n",
      "Fun\n",
      "Zip\n",
      "Hello\n",
      "Fun\n"
     ]
    }
   ],
   "source": [
    "thing()\n",
    "print('Zip')\n",
    "thing()"
   ]
  },
  {
   "cell_type": "code",
   "execution_count": 9,
   "id": "65f397d1",
   "metadata": {},
   "outputs": [
    {
     "name": "stdout",
     "output_type": "stream",
     "text": [
      "w\n"
     ]
    }
   ],
   "source": [
    "big = max(\"Hello world\") # here everything entered in the bracket is called argument\n",
    "print(big)"
   ]
  },
  {
   "cell_type": "raw",
   "id": "cd927f87",
   "metadata": {},
   "source": [
    "A function is some stored code that we use.\n",
    "A function takes some input and produces an output."
   ]
  },
  {
   "cell_type": "raw",
   "id": "02485cef",
   "metadata": {},
   "source": [
    "#-- we create a new function using the def keyword followed by optional \n",
    "#       parameters in parantheses\n",
    "#-- we indent the body of the function\n",
    "#-- this defines the function but does not execute the body of the function"
   ]
  },
  {
   "cell_type": "code",
   "execution_count": 11,
   "id": "65c72513",
   "metadata": {},
   "outputs": [
    {
     "name": "stdout",
     "output_type": "stream",
     "text": [
      "Hello\n",
      "Yo\n",
      "I'm a lumberjack, and I'm okay.\n",
      "I sleep all night and I work all day.\n",
      "7\n"
     ]
    }
   ],
   "source": [
    "x = 5\n",
    "print('Hello')\n",
    "\n",
    "def print_lyrics():\n",
    "    print(\"I'm a lumberjack, and I'm okay.\")\n",
    "    print('I sleep all night and I work all day.')\n",
    "\n",
    "print('Yo')\n",
    "print_lyrics()\n",
    "x = x + 2\n",
    "print(x)"
   ]
  },
  {
   "cell_type": "markdown",
   "id": "b99417a3",
   "metadata": {},
   "source": [
    "# Arguments"
   ]
  },
  {
   "cell_type": "markdown",
   "id": "9a35d6c7",
   "metadata": {},
   "source": [
    "#-- An argument is a value we pass into the function as its input when we call the function\n",
    "#-- We use arguments se we can direct the function to do different kinds of work when we call it at different times\n",
    "#-- We put the arguments in parentheses after the name of the function"
   ]
  },
  {
   "cell_type": "markdown",
   "id": "ca5585e2",
   "metadata": {},
   "source": [
    "# Parameters"
   ]
  },
  {
   "cell_type": "markdown",
   "id": "6be8a63f",
   "metadata": {},
   "source": [
    "'''A parameter is a variable which we use in the function definition. It is a \"hadnle\" that allows the code in the function to access the arguments for a particular function invocation.'''"
   ]
  },
  {
   "cell_type": "code",
   "execution_count": 15,
   "id": "974a01ae",
   "metadata": {},
   "outputs": [
    {
     "name": "stdout",
     "output_type": "stream",
     "text": [
      "Hello\n",
      "Hola\n",
      "Hello\n"
     ]
    }
   ],
   "source": [
    "def great(lang):\n",
    "    if lang == 'es':\n",
    "        print('Hola')\n",
    "    elif lang == 'fr':\n",
    "        print('Bonjour')\n",
    "    else:\n",
    "        print(\"Hello\")\n",
    "        \n",
    "great('en')\n",
    "great ('es')\n",
    "great ('free')"
   ]
  },
  {
   "cell_type": "markdown",
   "id": "49ea9238",
   "metadata": {},
   "source": [
    "# Return Values"
   ]
  },
  {
   "cell_type": "raw",
   "id": "1e5e4c54",
   "metadata": {},
   "source": [
    "Often a function will take its arguments, do some computation, and return a value to be used as the value of the function call in the calling expression. The return keyword is used for this."
   ]
  },
  {
   "cell_type": "code",
   "execution_count": 16,
   "id": "42148a66",
   "metadata": {},
   "outputs": [
    {
     "name": "stdout",
     "output_type": "stream",
     "text": [
      "Hello Glenn\n",
      "Hello Sally\n"
     ]
    }
   ],
   "source": [
    "def greet():\n",
    "    return \"Hello\"\n",
    "\n",
    "print(greet(), \"Glenn\")\n",
    "print(greet(), \"Sally\")"
   ]
  },
  {
   "cell_type": "raw",
   "id": "f8158540",
   "metadata": {},
   "source": [
    "A \"fruitful\" function is one that produces a result (or return value).\n",
    "The return statement ends the function execution and \"sends back\" the result of the function"
   ]
  },
  {
   "cell_type": "code",
   "execution_count": 18,
   "id": "1055bf9b",
   "metadata": {},
   "outputs": [
    {
     "name": "stdout",
     "output_type": "stream",
     "text": [
      "Hello Glenn\n",
      "Hola Sally\n",
      "Hello Michael\n"
     ]
    }
   ],
   "source": [
    "def great(lang):\n",
    "    if lang == 'es':\n",
    "        return('Hola')\n",
    "    elif lang == 'fr':\n",
    "        return('Bonjour')\n",
    "    else:\n",
    "        return(\"Hello\")\n",
    "        \n",
    "print(great('en'), 'Glenn')\n",
    "print(great ('es'), 'Sally')\n",
    "print(great ('free'), 'Michael')"
   ]
  },
  {
   "cell_type": "markdown",
   "id": "383aee9d",
   "metadata": {},
   "source": [
    "# Multiple Parameters/Arguments"
   ]
  },
  {
   "cell_type": "raw",
   "id": "4bc74917",
   "metadata": {},
   "source": [
    "-- We can define more than one parameter in the function definition\n",
    "-- We simply add more arguments when we call the function\n",
    "-- We match the number and order of arguments and parameters"
   ]
  },
  {
   "cell_type": "code",
   "execution_count": 20,
   "id": "a8ec83b8",
   "metadata": {},
   "outputs": [
    {
     "name": "stdout",
     "output_type": "stream",
     "text": [
      "8\n"
     ]
    }
   ],
   "source": [
    "def addtwo(a,b):\n",
    "    added = a + b\n",
    "    return added\n",
    "\n",
    "x = addtwo(3, 5)\n",
    "print(x)"
   ]
  },
  {
   "cell_type": "code",
   "execution_count": null,
   "id": "f33505a7",
   "metadata": {},
   "outputs": [],
   "source": []
  }
 ],
 "metadata": {
  "kernelspec": {
   "display_name": "Python 3 (ipykernel)",
   "language": "python",
   "name": "python3"
  },
  "language_info": {
   "codemirror_mode": {
    "name": "ipython",
    "version": 3
   },
   "file_extension": ".py",
   "mimetype": "text/x-python",
   "name": "python",
   "nbconvert_exporter": "python",
   "pygments_lexer": "ipython3",
   "version": "3.10.11"
  }
 },
 "nbformat": 4,
 "nbformat_minor": 5
}
