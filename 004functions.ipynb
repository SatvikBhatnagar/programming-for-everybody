{
 "cells": [
  {
   "cell_type": "markdown",
   "id": "9fcc5641",
   "metadata": {},
   "source": [
    "# Functions"
   ]
  },
  {
   "cell_type": "code",
   "execution_count": 3,
   "id": "8e669989",
   "metadata": {},
   "outputs": [],
   "source": [
    "#dry - don't repeat yourself"
   ]
  },
  {
   "cell_type": "code",
   "execution_count": 4,
   "id": "22477d63",
   "metadata": {},
   "outputs": [],
   "source": [
    "def thing():\n",
    "    print(\"Hello\")\n",
    "    print(\"Fun\")"
   ]
  },
  {
   "cell_type": "code",
   "execution_count": 6,
   "id": "6912c2c9",
   "metadata": {},
   "outputs": [
    {
     "name": "stdout",
     "output_type": "stream",
     "text": [
      "Hello\n",
      "Fun\n",
      "Zip\n",
      "Hello\n",
      "Fun\n"
     ]
    }
   ],
   "source": [
    "thing()\n",
    "print('Zip')\n",
    "thing()"
   ]
  },
  {
   "cell_type": "code",
   "execution_count": 9,
   "id": "2fbb74df",
   "metadata": {},
   "outputs": [
    {
     "name": "stdout",
     "output_type": "stream",
     "text": [
      "w\n"
     ]
    }
   ],
   "source": [
    "big = max(\"Hello world\") # here everything entered in the bracket is called argument\n",
    "print(big)"
   ]
  },
  {
   "cell_type": "raw",
   "id": "2f28a614",
   "metadata": {},
   "source": [
    "A function is some stored code that we use.\n",
    "A function takes some input and produces an output."
   ]
  },
  {
   "cell_type": "raw",
   "id": "f2bbbe03",
   "metadata": {},
   "source": [
    "#-- we create a new function using the def keyword followed by optional \n",
    "#       parameters in parantheses\n",
    "#-- we indent the body of the function\n",
    "#-- this defines the function but does not execute the body of the function"
   ]
  },
  {
   "cell_type": "code",
   "execution_count": 11,
   "id": "65412410",
   "metadata": {},
   "outputs": [
    {
     "name": "stdout",
     "output_type": "stream",
     "text": [
      "Hello\n",
      "Yo\n",
      "I'm a lumberjack, and I'm okay.\n",
      "I sleep all night and I work all day.\n",
      "7\n"
     ]
    }
   ],
   "source": [
    "x = 5\n",
    "print('Hello')\n",
    "\n",
    "def print_lyrics():\n",
    "    print(\"I'm a lumberjack, and I'm okay.\")\n",
    "    print('I sleep all night and I work all day.')\n",
    "\n",
    "print('Yo')\n",
    "print_lyrics()\n",
    "x = x + 2\n",
    "print(x)"
   ]
  },
  {
   "cell_type": "markdown",
   "id": "3b56c77d",
   "metadata": {},
   "source": [
    "# Arguments"
   ]
  },
  {
   "cell_type": "markdown",
   "id": "25ef7695",
   "metadata": {},
   "source": [
    "#-- An argument is a value we pass into the function as its input when we call the function\n",
    "#-- We use arguments se we can direct the function to do different kinds of work when we call it at different times\n",
    "#-- We put the arguments in parentheses after the name of the function"
   ]
  },
  {
   "cell_type": "markdown",
   "id": "5feac107",
   "metadata": {},
   "source": [
    "# Parameters"
   ]
  },
  {
   "cell_type": "markdown",
   "id": "16ec1555",
   "metadata": {},
   "source": [
    "'''A parameter is a variable which we use in the function definition. It is a \"hadnle\" that allows the code in the function to access the arguments for a particular function invocation.'''"
   ]
  },
  {
   "cell_type": "code",
   "execution_count": 15,
   "id": "dbfe99f3",
   "metadata": {},
   "outputs": [
    {
     "name": "stdout",
     "output_type": "stream",
     "text": [
      "Hello\n",
      "Hola\n",
      "Hello\n"
     ]
    }
   ],
   "source": [
    "def great(lang):\n",
    "    if lang == 'es':\n",
    "        print('Hola')\n",
    "    elif lang == 'fr':\n",
    "        print('Bonjour')\n",
    "    else:\n",
    "        print(\"Hello\")\n",
    "        \n",
    "great('en')\n",
    "great ('es')\n",
    "great ('free')"
   ]
  },
  {
   "cell_type": "markdown",
   "id": "562d81da",
   "metadata": {},
   "source": [
    "# Return Values"
   ]
  },
  {
   "cell_type": "raw",
   "id": "65ebb033",
   "metadata": {},
   "source": [
    "Often a function will take its arguments, do some computation, and return a value to be used as the value of the function call in the calling expression. The return keyword is used for this."
   ]
  },
  {
   "cell_type": "code",
   "execution_count": 16,
   "id": "6c944a58",
   "metadata": {},
   "outputs": [
    {
     "name": "stdout",
     "output_type": "stream",
     "text": [
      "Hello Glenn\n",
      "Hello Sally\n"
     ]
    }
   ],
   "source": [
    "def greet():\n",
    "    return \"Hello\"\n",
    "\n",
    "print(greet(), \"Glenn\")\n",
    "print(greet(), \"Sally\")"
   ]
  },
  {
   "cell_type": "raw",
   "id": "54e4e464",
   "metadata": {},
   "source": [
    "A \"fruitful\" function is one that produces a result (or return value).\n",
    "The return statement ends the function execution and \"sends back\" the result of the function"
   ]
  },
  {
   "cell_type": "code",
   "execution_count": 18,
   "id": "85c3372b",
   "metadata": {},
   "outputs": [
    {
     "name": "stdout",
     "output_type": "stream",
     "text": [
      "Hello Glenn\n",
      "Hola Sally\n",
      "Hello Michael\n"
     ]
    }
   ],
   "source": [
    "def great(lang):\n",
    "    if lang == 'es':\n",
    "        return('Hola')\n",
    "    elif lang == 'fr':\n",
    "        return('Bonjour')\n",
    "    else:\n",
    "        return(\"Hello\")\n",
    "        \n",
    "print(great('en'), 'Glenn')\n",
    "print(great ('es'), 'Sally')\n",
    "print(great ('free'), 'Michael')"
   ]
  },
  {
   "cell_type": "markdown",
   "id": "257993aa",
   "metadata": {},
   "source": [
    "# Multiple Parameters/Arguments"
   ]
  },
  {
   "cell_type": "raw",
   "id": "c6959821",
   "metadata": {},
   "source": [
    "-- We can define more than one parameter in the function definition\n",
    "-- We simply add more arguments when we call the function\n",
    "-- We match the number and order of arguments and parameters"
   ]
  },
  {
   "cell_type": "code",
   "execution_count": 20,
   "id": "16bb8594",
   "metadata": {},
   "outputs": [
    {
     "name": "stdout",
     "output_type": "stream",
     "text": [
      "8\n"
     ]
    }
   ],
   "source": [
    "def addtwo(a,b):\n",
    "    added = a + b\n",
    "    return added\n",
    "\n",
    "x = addtwo(3, 5)\n",
    "print(x)"
   ]
  },
  {
   "cell_type": "markdown",
   "id": "7fc60842",
   "metadata": {},
   "source": [
    "# Assignment 4.6"
   ]
  },
  {
   "cell_type": "raw",
   "id": "45f00081",
   "metadata": {},
   "source": [
    "Write a program to prompt the user for hours and rate per hour using input to compute gross pay. Pay should be the normal rate for hours up to 40 and time-and-a-half for the hourly rate for all hours worked above 40 hours. Put the logic to do the computation of pay in a function called computepay() and use the function to do the computation. The function should return a value. Use 45 hours and a rate of 10.50 per hour to test the program (the pay should be 498.75). You should use input to read a string and float() to convert the string to a number. Do not worry about error checking the user input unless you want to - you can assume the user types numbers properly. Do not name your variable sum or use the sum() function."
   ]
  },
  {
   "cell_type": "code",
   "execution_count": 24,
   "id": "6f74817a",
   "metadata": {},
   "outputs": [
    {
     "name": "stdout",
     "output_type": "stream",
     "text": [
      "Enter number of hours: 45\n",
      "Enter rate per hour: 10.50\n",
      "Pay 498.75\n"
     ]
    }
   ],
   "source": [
    "def computepay(hrs, rph):\n",
    "    try:\n",
    "        h = float(hrs)\n",
    "        r = float(rph)\n",
    "    except:\n",
    "        print(\"Enter valid entries\")\n",
    "        return\n",
    "    \n",
    "    if h <= 40:\n",
    "        pay = h * r\n",
    "    else:\n",
    "        extra_hrs = h - 40\n",
    "        pay = 40*r + extra_hrs*(r*1.5)\n",
    "    \n",
    "    return pay\n",
    "        \n",
    "hrs = input(\"Enter number of hours: \")\n",
    "rph = input(\"Enter rate per hour: \")\n",
    "p = computepay(hrs, rph)\n",
    "print(\"Pay\", p)"
   ]
  }
 ],
 "metadata": {
  "kernelspec": {
   "display_name": "Python 3 (ipykernel)",
   "language": "python",
   "name": "python3"
  },
  "language_info": {
   "codemirror_mode": {
    "name": "ipython",
    "version": 3
   },
   "file_extension": ".py",
   "mimetype": "text/x-python",
   "name": "python",
   "nbconvert_exporter": "python",
   "pygments_lexer": "ipython3",
   "version": "3.10.11"
  }
 },
 "nbformat": 4,
 "nbformat_minor": 5
}
