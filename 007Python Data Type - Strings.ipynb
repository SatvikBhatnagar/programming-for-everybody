{
 "cells": [
  {
   "cell_type": "markdown",
   "id": "6cb1ef1f",
   "metadata": {},
   "source": [
    "\n",
    "# Looking Inside Strings"
   ]
  },
  {
   "cell_type": "markdown",
   "id": "6beb6e93",
   "metadata": {},
   "source": [
    "- we can get at any single character in a string using an index specified in SQUARE BRACKETS\n",
    "- the index value must be an integer and starts at zero\n",
    "- the index value can be an expression that is computed"
   ]
  },
  {
   "cell_type": "code",
   "execution_count": 1,
   "id": "b22b26f3",
   "metadata": {},
   "outputs": [
    {
     "name": "stdout",
     "output_type": "stream",
     "text": [
      "a\n"
     ]
    }
   ],
   "source": [
    "fruit = 'banana'\n",
    "letter = fruit[1]\n",
    "print(letter)"
   ]
  },
  {
   "cell_type": "code",
   "execution_count": 2,
   "id": "8d3a930d",
   "metadata": {},
   "outputs": [
    {
     "name": "stdout",
     "output_type": "stream",
     "text": [
      "n\n"
     ]
    }
   ],
   "source": [
    "x =3\n",
    "w = fruit[x-1]\n",
    "print(w)"
   ]
  },
  {
   "cell_type": "markdown",
   "id": "e80f14e8",
   "metadata": {},
   "source": [
    "# Len Function"
   ]
  },
  {
   "cell_type": "code",
   "execution_count": 3,
   "id": "bb7e61cb",
   "metadata": {},
   "outputs": [
    {
     "name": "stdout",
     "output_type": "stream",
     "text": [
      "6\n"
     ]
    }
   ],
   "source": [
    "x = len(fruit)\n",
    "print(x)"
   ]
  },
  {
   "cell_type": "markdown",
   "id": "1b792104",
   "metadata": {},
   "source": [
    "# Looping through Strings"
   ]
  },
  {
   "cell_type": "markdown",
   "id": "ce817a7c",
   "metadata": {},
   "source": [
    "using a while statement and an iteration variable, and the len function, we can construct a loop to look at each of the letters in a string individually"
   ]
  },
  {
   "cell_type": "code",
   "execution_count": 5,
   "id": "522b55bf",
   "metadata": {},
   "outputs": [
    {
     "name": "stdout",
     "output_type": "stream",
     "text": [
      "0 b\n",
      "1 a\n",
      "2 n\n",
      "3 a\n",
      "4 n\n",
      "5 a\n"
     ]
    }
   ],
   "source": [
    "fruit = 'banana'\n",
    "index = 0\n",
    "while index < len(fruit):\n",
    "    letter = fruit[index]\n",
    "    print(index, letter)\n",
    "    index = index + 1"
   ]
  },
  {
   "cell_type": "markdown",
   "id": "114c624e",
   "metadata": {},
   "source": [
    "- a definite loop using a FOR statement is much more elegant\n",
    "- the iteration variable is completely taken care of by the for loop\""
   ]
  },
  {
   "cell_type": "code",
   "execution_count": 7,
   "id": "4ee92d2f",
   "metadata": {},
   "outputs": [
    {
     "name": "stdout",
     "output_type": "stream",
     "text": [
      "b\n",
      "a\n",
      "n\n",
      "a\n",
      "n\n",
      "a\n"
     ]
    }
   ],
   "source": [
    "fruit = 'banana'\n",
    "for letter in fruit:\n",
    "    print(letter)"
   ]
  },
  {
   "cell_type": "markdown",
   "id": "1b9cdbbb",
   "metadata": {},
   "source": [
    "# Looping and Counting"
   ]
  },
  {
   "cell_type": "markdown",
   "id": "b6627a6d",
   "metadata": {},
   "source": [
    "this is a simple loop that loops through each letter in a string and counts the number of itmes the loop encounters the 'a' character"
   ]
  },
  {
   "cell_type": "code",
   "execution_count": 8,
   "id": "8980d9b2",
   "metadata": {},
   "outputs": [
    {
     "name": "stdout",
     "output_type": "stream",
     "text": [
      "3\n"
     ]
    }
   ],
   "source": [
    "word = 'banana'\n",
    "count = 0\n",
    "for letter in word:\n",
    "    if letter == 'a' :\n",
    "        count = count + 1\n",
    "print(count)"
   ]
  },
  {
   "cell_type": "markdown",
   "id": "ad557dc3",
   "metadata": {},
   "source": [
    "# Looking Deeper into 'in'"
   ]
  },
  {
   "cell_type": "markdown",
   "id": "24d32270",
   "metadata": {},
   "source": [
    "- the iteration variable 'iterates' through the sequence (ordered set)\n",
    "- the block (body) of code is executed once for each value in the sequence\n",
    "- the iteration variable moves through all of the values in the sequence"
   ]
  },
  {
   "cell_type": "code",
   "execution_count": 9,
   "id": "25d5a9c7",
   "metadata": {},
   "outputs": [
    {
     "name": "stdout",
     "output_type": "stream",
     "text": [
      "b\n",
      "a\n",
      "n\n",
      "a\n",
      "n\n",
      "a\n"
     ]
    }
   ],
   "source": [
    "for letter in 'banana' :\n",
    "    print(letter)"
   ]
  },
  {
   "cell_type": "markdown",
   "id": "10aa2f96",
   "metadata": {},
   "source": [
    "# Slicing Strings"
   ]
  },
  {
   "cell_type": "markdown",
   "id": "e0e448fd",
   "metadata": {},
   "source": [
    "- we can also look at any continuous section of a string using a colon operator\n",
    "- the second number is one beyond the end of the slice - \"UP TO BUT NOT INCLUDING\"\n",
    "- if the second number is beyond the end of the string, it stops at the end"
   ]
  },
  {
   "cell_type": "code",
   "execution_count": 10,
   "id": "3f83996a",
   "metadata": {},
   "outputs": [
    {
     "name": "stdout",
     "output_type": "stream",
     "text": [
      "Mont\n"
     ]
    }
   ],
   "source": [
    "s = 'Monty Python'\n",
    "print(s[0:4])"
   ]
  },
  {
   "cell_type": "code",
   "execution_count": 11,
   "id": "70fa1634",
   "metadata": {},
   "outputs": [
    {
     "name": "stdout",
     "output_type": "stream",
     "text": [
      "P\n"
     ]
    }
   ],
   "source": [
    "print(s[6:7])"
   ]
  },
  {
   "cell_type": "code",
   "execution_count": 13,
   "id": "902c4d6f",
   "metadata": {},
   "outputs": [
    {
     "name": "stdout",
     "output_type": "stream",
     "text": [
      "Python\n"
     ]
    }
   ],
   "source": [
    "print(s[6:20]) #not an error"
   ]
  }
 ],
 "metadata": {
  "kernelspec": {
   "display_name": "Python 3 (ipykernel)",
   "language": "python",
   "name": "python3"
  },
  "language_info": {
   "codemirror_mode": {
    "name": "ipython",
    "version": 3
   },
   "file_extension": ".py",
   "mimetype": "text/x-python",
   "name": "python",
   "nbconvert_exporter": "python",
   "pygments_lexer": "ipython3",
   "version": "3.10.11"
  }
 },
 "nbformat": 4,
 "nbformat_minor": 5
}
