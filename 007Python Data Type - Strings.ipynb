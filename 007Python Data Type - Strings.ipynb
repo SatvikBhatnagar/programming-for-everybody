{
 "cells": [
  {
   "cell_type": "markdown",
   "id": "763f3a9d",
   "metadata": {},
   "source": [
    "\n",
    "# Looking Inside Strings"
   ]
  },
  {
   "cell_type": "markdown",
   "id": "5558535d",
   "metadata": {},
   "source": [
    "- we can get at any single character in a string using an index specified in SQUARE BRACKETS\n",
    "- the index value must be an integer and starts at zero\n",
    "- the index value can be an expression that is computed"
   ]
  },
  {
   "cell_type": "code",
   "execution_count": 1,
   "id": "fdea8940",
   "metadata": {},
   "outputs": [
    {
     "name": "stdout",
     "output_type": "stream",
     "text": [
      "a\n"
     ]
    }
   ],
   "source": [
    "fruit = 'banana'\n",
    "letter = fruit[1]\n",
    "print(letter)"
   ]
  },
  {
   "cell_type": "code",
   "execution_count": 2,
   "id": "e87b9013",
   "metadata": {},
   "outputs": [
    {
     "name": "stdout",
     "output_type": "stream",
     "text": [
      "n\n"
     ]
    }
   ],
   "source": [
    "x =3\n",
    "w = fruit[x-1]\n",
    "print(w)"
   ]
  },
  {
   "cell_type": "markdown",
   "id": "bf250a56",
   "metadata": {},
   "source": [
    "# Len Function"
   ]
  },
  {
   "cell_type": "code",
   "execution_count": 3,
   "id": "b2b9489d",
   "metadata": {},
   "outputs": [
    {
     "name": "stdout",
     "output_type": "stream",
     "text": [
      "6\n"
     ]
    }
   ],
   "source": [
    "x = len(fruit)\n",
    "print(x)"
   ]
  },
  {
   "cell_type": "markdown",
   "id": "602919b9",
   "metadata": {},
   "source": [
    "# Looping through Strings"
   ]
  },
  {
   "cell_type": "markdown",
   "id": "f727902f",
   "metadata": {},
   "source": [
    "using a while statement and an iteration variable, and the len function, we can construct a loop to look at each of the letters in a string individually"
   ]
  },
  {
   "cell_type": "code",
   "execution_count": 5,
   "id": "5297aa08",
   "metadata": {},
   "outputs": [
    {
     "name": "stdout",
     "output_type": "stream",
     "text": [
      "0 b\n",
      "1 a\n",
      "2 n\n",
      "3 a\n",
      "4 n\n",
      "5 a\n"
     ]
    }
   ],
   "source": [
    "fruit = 'banana'\n",
    "index = 0\n",
    "while index < len(fruit):\n",
    "    letter = fruit[index]\n",
    "    print(index, letter)\n",
    "    index = index + 1"
   ]
  },
  {
   "cell_type": "markdown",
   "id": "82f50fbf",
   "metadata": {},
   "source": [
    "- a definite loop using a FOR statement is much more elegant\n",
    "- the iteration variable is completely taken care of by the for loop\""
   ]
  },
  {
   "cell_type": "code",
   "execution_count": 7,
   "id": "62b0b094",
   "metadata": {},
   "outputs": [
    {
     "name": "stdout",
     "output_type": "stream",
     "text": [
      "b\n",
      "a\n",
      "n\n",
      "a\n",
      "n\n",
      "a\n"
     ]
    }
   ],
   "source": [
    "fruit = 'banana'\n",
    "for letter in fruit:\n",
    "    print(letter)"
   ]
  },
  {
   "cell_type": "markdown",
   "id": "c8b9b40a",
   "metadata": {},
   "source": [
    "# Looping and Counting"
   ]
  },
  {
   "cell_type": "markdown",
   "id": "0013f064",
   "metadata": {},
   "source": [
    "this is a simple loop that loops through each letter in a string and counts the number of itmes the loop encounters the 'a' character"
   ]
  },
  {
   "cell_type": "code",
   "execution_count": 8,
   "id": "19695363",
   "metadata": {},
   "outputs": [
    {
     "name": "stdout",
     "output_type": "stream",
     "text": [
      "3\n"
     ]
    }
   ],
   "source": [
    "word = 'banana'\n",
    "count = 0\n",
    "for letter in word:\n",
    "    if letter == 'a' :\n",
    "        count = count + 1\n",
    "print(count)"
   ]
  },
  {
   "cell_type": "markdown",
   "id": "f477da06",
   "metadata": {},
   "source": [
    "# Looking Deeper into 'in'"
   ]
  },
  {
   "cell_type": "markdown",
   "id": "b40230a1",
   "metadata": {},
   "source": [
    "- the iteration variable 'iterates' through the sequence (ordered set)\n",
    "- the block (body) of code is executed once for each value in the sequence\n",
    "- the iteration variable moves through all of the values in the sequence"
   ]
  },
  {
   "cell_type": "code",
   "execution_count": 9,
   "id": "26e403af",
   "metadata": {},
   "outputs": [
    {
     "name": "stdout",
     "output_type": "stream",
     "text": [
      "b\n",
      "a\n",
      "n\n",
      "a\n",
      "n\n",
      "a\n"
     ]
    }
   ],
   "source": [
    "for letter in 'banana' :\n",
    "    print(letter)"
   ]
  },
  {
   "cell_type": "markdown",
   "id": "ce20dfa3",
   "metadata": {},
   "source": [
    "# Slicing Strings"
   ]
  },
  {
   "cell_type": "markdown",
   "id": "d68776c2",
   "metadata": {},
   "source": [
    "- we can also look at any continuous section of a string using a colon operator\n",
    "- the second number is one beyond the end of the slice - \"UP TO BUT NOT INCLUDING\"\n",
    "- if the second number is beyond the end of the string, it stops at the end"
   ]
  },
  {
   "cell_type": "code",
   "execution_count": 10,
   "id": "63bdff92",
   "metadata": {},
   "outputs": [
    {
     "name": "stdout",
     "output_type": "stream",
     "text": [
      "Mont\n"
     ]
    }
   ],
   "source": [
    "s = 'Monty Python'\n",
    "print(s[0:4])"
   ]
  },
  {
   "cell_type": "code",
   "execution_count": 11,
   "id": "a850d2fc",
   "metadata": {},
   "outputs": [
    {
     "name": "stdout",
     "output_type": "stream",
     "text": [
      "P\n"
     ]
    }
   ],
   "source": [
    "print(s[6:7])"
   ]
  },
  {
   "cell_type": "code",
   "execution_count": 13,
   "id": "721fe401",
   "metadata": {},
   "outputs": [
    {
     "name": "stdout",
     "output_type": "stream",
     "text": [
      "Python\n"
     ]
    }
   ],
   "source": [
    "print(s[6:20]) #not an error"
   ]
  },
  {
   "cell_type": "markdown",
   "id": "db6a6aa1",
   "metadata": {},
   "source": [
    "# String Concatenation"
   ]
  },
  {
   "cell_type": "code",
   "execution_count": 14,
   "id": "1b612373",
   "metadata": {},
   "outputs": [],
   "source": [
    "#when the + operator is applied to strings, it means \"concatenation\""
   ]
  },
  {
   "cell_type": "code",
   "execution_count": 15,
   "id": "1ae832b4",
   "metadata": {},
   "outputs": [
    {
     "name": "stdout",
     "output_type": "stream",
     "text": [
      "HelloThere\n"
     ]
    }
   ],
   "source": [
    "a = 'Hello'\n",
    "b = a + 'There'\n",
    "print(b)"
   ]
  },
  {
   "cell_type": "code",
   "execution_count": 17,
   "id": "46798b0e",
   "metadata": {},
   "outputs": [
    {
     "name": "stdout",
     "output_type": "stream",
     "text": [
      "Hello There\n"
     ]
    }
   ],
   "source": [
    "c = a + ' ' + 'There'\n",
    "print(c)"
   ]
  },
  {
   "cell_type": "markdown",
   "id": "eab2f6e2",
   "metadata": {},
   "source": [
    "# Using 'in' as a Logical Operator"
   ]
  },
  {
   "cell_type": "markdown",
   "id": "8e4673b6",
   "metadata": {},
   "source": [
    "- the 'in' keyword can also be used to check to see if one string is 'in' another string\n",
    "- the 'in' expression is a logical expression that returns True or False and can be used in an if statement"
   ]
  },
  {
   "cell_type": "code",
   "execution_count": 18,
   "id": "c54ffbd8",
   "metadata": {},
   "outputs": [
    {
     "data": {
      "text/plain": [
       "True"
      ]
     },
     "execution_count": 18,
     "metadata": {},
     "output_type": "execute_result"
    }
   ],
   "source": [
    "fruit = 'banana'\n",
    "'n' in fruit"
   ]
  },
  {
   "cell_type": "code",
   "execution_count": 19,
   "id": "bc88375d",
   "metadata": {},
   "outputs": [
    {
     "data": {
      "text/plain": [
       "False"
      ]
     },
     "execution_count": 19,
     "metadata": {},
     "output_type": "execute_result"
    }
   ],
   "source": [
    "'m' in fruit"
   ]
  },
  {
   "cell_type": "code",
   "execution_count": 20,
   "id": "88206e56",
   "metadata": {},
   "outputs": [
    {
     "data": {
      "text/plain": [
       "True"
      ]
     },
     "execution_count": 20,
     "metadata": {},
     "output_type": "execute_result"
    }
   ],
   "source": [
    "'nan' in fruit"
   ]
  },
  {
   "cell_type": "code",
   "execution_count": 21,
   "id": "17c6b041",
   "metadata": {},
   "outputs": [
    {
     "name": "stdout",
     "output_type": "stream",
     "text": [
      "Fount it!\n"
     ]
    }
   ],
   "source": [
    "if 'a' in fruit :\n",
    "    print('Fount it!')"
   ]
  },
  {
   "cell_type": "markdown",
   "id": "7fa695d8",
   "metadata": {},
   "source": [
    "# String Comparison"
   ]
  },
  {
   "cell_type": "code",
   "execution_count": 26,
   "id": "d4534d02",
   "metadata": {},
   "outputs": [
    {
     "name": "stdout",
     "output_type": "stream",
     "text": [
      "All right, bananas.\n"
     ]
    }
   ],
   "source": [
    "word = 'banana'\n",
    "\n",
    "if word == 'banana':\n",
    "    print('All right, bananas.')"
   ]
  },
  {
   "cell_type": "code",
   "execution_count": 31,
   "id": "2a9c1790",
   "metadata": {},
   "outputs": [
    {
     "name": "stdout",
     "output_type": "stream",
     "text": [
      "Your word,apple, comes before banana.\n"
     ]
    }
   ],
   "source": [
    "word = 'apple'\n",
    "\n",
    "if word < 'banana':\n",
    "    print('Your word,' + word + ', comes before banana.')\n",
    "elif word > 'banana':\n",
    "    print('Your word,' + word + ', comes after banana.')\n",
    "else:\n",
    "    print('All right, bananas.')"
   ]
  },
  {
   "cell_type": "markdown",
   "id": "0e21a675",
   "metadata": {},
   "source": [
    "# String Library"
   ]
  },
  {
   "cell_type": "markdown",
   "id": "3b6b9cee",
   "metadata": {},
   "source": [
    "- python has a number of string functions which are in the string library\n",
    "- these functions are already built into every string - we invoke them by appending the function to the string variable\n",
    "- these functions do not modify the original string, instead they return a new string that has been altered"
   ]
  },
  {
   "cell_type": "code",
   "execution_count": 33,
   "id": "a9c4a06e",
   "metadata": {},
   "outputs": [
    {
     "name": "stdout",
     "output_type": "stream",
     "text": [
      "hello bob\n"
     ]
    }
   ],
   "source": [
    "greet = 'Hello Bob'\n",
    "zap = greet.lower()\n",
    "print(zap)"
   ]
  },
  {
   "cell_type": "code",
   "execution_count": 34,
   "id": "40d61efe",
   "metadata": {},
   "outputs": [
    {
     "name": "stdout",
     "output_type": "stream",
     "text": [
      "Hello Bob\n"
     ]
    }
   ],
   "source": [
    "print(greet)"
   ]
  },
  {
   "cell_type": "code",
   "execution_count": 35,
   "id": "498f79e0",
   "metadata": {},
   "outputs": [
    {
     "name": "stdout",
     "output_type": "stream",
     "text": [
      "hi there\n"
     ]
    }
   ],
   "source": [
    "print('Hi There'.lower())"
   ]
  },
  {
   "cell_type": "markdown",
   "id": "dea74654",
   "metadata": {},
   "source": [
    "# Methods in a class STRING"
   ]
  },
  {
   "cell_type": "code",
   "execution_count": 37,
   "id": "34f6a3b3",
   "metadata": {},
   "outputs": [
    {
     "data": {
      "text/plain": [
       "str"
      ]
     },
     "execution_count": 37,
     "metadata": {},
     "output_type": "execute_result"
    }
   ],
   "source": [
    "stuff = 'Hello, World!'\n",
    "type(stuff)"
   ]
  },
  {
   "cell_type": "code",
   "execution_count": 38,
   "id": "ee463301",
   "metadata": {
    "scrolled": true
   },
   "outputs": [
    {
     "data": {
      "text/plain": [
       "['__add__',\n",
       " '__class__',\n",
       " '__contains__',\n",
       " '__delattr__',\n",
       " '__dir__',\n",
       " '__doc__',\n",
       " '__eq__',\n",
       " '__format__',\n",
       " '__ge__',\n",
       " '__getattribute__',\n",
       " '__getitem__',\n",
       " '__getnewargs__',\n",
       " '__gt__',\n",
       " '__hash__',\n",
       " '__init__',\n",
       " '__init_subclass__',\n",
       " '__iter__',\n",
       " '__le__',\n",
       " '__len__',\n",
       " '__lt__',\n",
       " '__mod__',\n",
       " '__mul__',\n",
       " '__ne__',\n",
       " '__new__',\n",
       " '__reduce__',\n",
       " '__reduce_ex__',\n",
       " '__repr__',\n",
       " '__rmod__',\n",
       " '__rmul__',\n",
       " '__setattr__',\n",
       " '__sizeof__',\n",
       " '__str__',\n",
       " '__subclasshook__',\n",
       " 'capitalize',\n",
       " 'casefold',\n",
       " 'center',\n",
       " 'count',\n",
       " 'encode',\n",
       " 'endswith',\n",
       " 'expandtabs',\n",
       " 'find',\n",
       " 'format',\n",
       " 'format_map',\n",
       " 'index',\n",
       " 'isalnum',\n",
       " 'isalpha',\n",
       " 'isascii',\n",
       " 'isdecimal',\n",
       " 'isdigit',\n",
       " 'isidentifier',\n",
       " 'islower',\n",
       " 'isnumeric',\n",
       " 'isprintable',\n",
       " 'isspace',\n",
       " 'istitle',\n",
       " 'isupper',\n",
       " 'join',\n",
       " 'ljust',\n",
       " 'lower',\n",
       " 'lstrip',\n",
       " 'maketrans',\n",
       " 'partition',\n",
       " 'removeprefix',\n",
       " 'removesuffix',\n",
       " 'replace',\n",
       " 'rfind',\n",
       " 'rindex',\n",
       " 'rjust',\n",
       " 'rpartition',\n",
       " 'rsplit',\n",
       " 'rstrip',\n",
       " 'split',\n",
       " 'splitlines',\n",
       " 'startswith',\n",
       " 'strip',\n",
       " 'swapcase',\n",
       " 'title',\n",
       " 'translate',\n",
       " 'upper',\n",
       " 'zfill']"
      ]
     },
     "execution_count": 38,
     "metadata": {},
     "output_type": "execute_result"
    }
   ],
   "source": [
    "dir(stuff)"
   ]
  },
  {
   "cell_type": "markdown",
   "id": "c27e9f69",
   "metadata": {},
   "source": [
    "# Searching a String"
   ]
  },
  {
   "cell_type": "markdown",
   "id": "5131d2d1",
   "metadata": {},
   "source": [
    "- we use the find() function to search for a substring within another string\n",
    "- find() finds the first occurence of the substring\n",
    "- if the substring is not found, find() returns -1\n",
    "- remember that string position starts at zero"
   ]
  },
  {
   "cell_type": "code",
   "execution_count": 39,
   "id": "fef2883e",
   "metadata": {},
   "outputs": [
    {
     "name": "stdout",
     "output_type": "stream",
     "text": [
      "2\n"
     ]
    }
   ],
   "source": [
    "fruit = 'banana'\n",
    "pos = fruit.find('na')\n",
    "print(pos)"
   ]
  },
  {
   "cell_type": "code",
   "execution_count": 40,
   "id": "f6affbb8",
   "metadata": {},
   "outputs": [
    {
     "name": "stdout",
     "output_type": "stream",
     "text": [
      "-1\n"
     ]
    }
   ],
   "source": [
    "aa = fruit.find('z')\n",
    "print(aa)"
   ]
  },
  {
   "cell_type": "markdown",
   "id": "5cb64f86",
   "metadata": {},
   "source": [
    "# Making Everything UPPER CASE"
   ]
  },
  {
   "cell_type": "markdown",
   "id": "73b84cf0",
   "metadata": {},
   "source": [
    "- you can make a copy of a string in lower case or upper case\n",
    "- often when we are searching for a string using find(), we first convert the string to lower case so we can search a string regardless of case"
   ]
  },
  {
   "cell_type": "code",
   "execution_count": 41,
   "id": "bf392033",
   "metadata": {},
   "outputs": [
    {
     "name": "stdout",
     "output_type": "stream",
     "text": [
      "HELLO BOB\n"
     ]
    }
   ],
   "source": [
    "greet = 'Hello Bob'\n",
    "nnn = greet.upper()\n",
    "print(nnn)"
   ]
  },
  {
   "cell_type": "code",
   "execution_count": 42,
   "id": "c2ae6675",
   "metadata": {},
   "outputs": [
    {
     "name": "stdout",
     "output_type": "stream",
     "text": [
      "hello bob\n"
     ]
    }
   ],
   "source": [
    "www = greet.lower()\n",
    "print(www)"
   ]
  },
  {
   "cell_type": "markdown",
   "id": "3973f7c5",
   "metadata": {},
   "source": [
    "# Search and Replace"
   ]
  },
  {
   "cell_type": "markdown",
   "id": "809786cb",
   "metadata": {},
   "source": [
    "- the replace() function is like a \"search and replace\" operation in a word processor\n",
    "- it replaces all occurrences of the search string with the replacement string"
   ]
  },
  {
   "cell_type": "code",
   "execution_count": 43,
   "id": "738ecea9",
   "metadata": {},
   "outputs": [
    {
     "name": "stdout",
     "output_type": "stream",
     "text": [
      "Hello Jane\n"
     ]
    }
   ],
   "source": [
    "greet = 'Hello Bob'\n",
    "nstr = greet.replace('Bob', 'Jane')\n",
    "print(nstr)"
   ]
  },
  {
   "cell_type": "code",
   "execution_count": 44,
   "id": "f806ecf4",
   "metadata": {},
   "outputs": [
    {
     "name": "stdout",
     "output_type": "stream",
     "text": [
      "HellX BXb\n"
     ]
    }
   ],
   "source": [
    "nstr = greet.replace('o', 'X')\n",
    "print(nstr)"
   ]
  },
  {
   "cell_type": "markdown",
   "id": "65fb0cc8",
   "metadata": {},
   "source": [
    "# Stripping Whitespace"
   ]
  },
  {
   "cell_type": "markdown",
   "id": "b9593ff3",
   "metadata": {},
   "source": [
    "- sometimes we want to take a string and remove whitespace at the beginning and/or end\n",
    "- lstrip() and rstrip() remove whitespace at the left or right\n",
    "- strip() removes both beginning and ending whitespace"
   ]
  },
  {
   "cell_type": "code",
   "execution_count": 46,
   "id": "8b1cbb02",
   "metadata": {},
   "outputs": [
    {
     "data": {
      "text/plain": [
       "'Hello Bob  '"
      ]
     },
     "execution_count": 46,
     "metadata": {},
     "output_type": "execute_result"
    }
   ],
   "source": [
    "greet = '    Hello Bob  '\n",
    "greet.lstrip()"
   ]
  },
  {
   "cell_type": "code",
   "execution_count": 47,
   "id": "9d22719d",
   "metadata": {},
   "outputs": [
    {
     "data": {
      "text/plain": [
       "'    Hello Bob'"
      ]
     },
     "execution_count": 47,
     "metadata": {},
     "output_type": "execute_result"
    }
   ],
   "source": [
    "greet.rstrip()"
   ]
  },
  {
   "cell_type": "code",
   "execution_count": 48,
   "id": "15e44ab3",
   "metadata": {},
   "outputs": [
    {
     "data": {
      "text/plain": [
       "'Hello Bob'"
      ]
     },
     "execution_count": 48,
     "metadata": {},
     "output_type": "execute_result"
    }
   ],
   "source": [
    "greet.strip()"
   ]
  },
  {
   "cell_type": "code",
   "execution_count": 49,
   "id": "e5cae585",
   "metadata": {},
   "outputs": [
    {
     "data": {
      "text/plain": [
       "15"
      ]
     },
     "execution_count": 49,
     "metadata": {},
     "output_type": "execute_result"
    }
   ],
   "source": [
    "len(greet)"
   ]
  },
  {
   "cell_type": "code",
   "execution_count": 50,
   "id": "2c40cb8e",
   "metadata": {},
   "outputs": [
    {
     "data": {
      "text/plain": [
       "9"
      ]
     },
     "execution_count": 50,
     "metadata": {},
     "output_type": "execute_result"
    }
   ],
   "source": [
    "len(greet.strip())"
   ]
  },
  {
   "cell_type": "code",
   "execution_count": 51,
   "id": "d511c0d4",
   "metadata": {},
   "outputs": [
    {
     "data": {
      "text/plain": [
       "True"
      ]
     },
     "execution_count": 51,
     "metadata": {},
     "output_type": "execute_result"
    }
   ],
   "source": [
    "line = 'Please have a nice day'\n",
    "line.startswith('Please')"
   ]
  },
  {
   "cell_type": "code",
   "execution_count": 52,
   "id": "e7eec6ad",
   "metadata": {},
   "outputs": [
    {
     "data": {
      "text/plain": [
       "False"
      ]
     },
     "execution_count": 52,
     "metadata": {},
     "output_type": "execute_result"
    }
   ],
   "source": [
    "line.startswith('p')"
   ]
  },
  {
   "cell_type": "code",
   "execution_count": 55,
   "id": "ac784860",
   "metadata": {},
   "outputs": [
    {
     "data": {
      "text/plain": [
       "True"
      ]
     },
     "execution_count": 55,
     "metadata": {},
     "output_type": "execute_result"
    }
   ],
   "source": [
    "line.startswith('P')"
   ]
  },
  {
   "cell_type": "markdown",
   "id": "ab4bc53c",
   "metadata": {},
   "source": [
    "# Parsing and Extracting"
   ]
  },
  {
   "cell_type": "code",
   "execution_count": 57,
   "id": "5348aec8",
   "metadata": {},
   "outputs": [
    {
     "name": "stdout",
     "output_type": "stream",
     "text": [
      "21\n"
     ]
    }
   ],
   "source": [
    "data = 'From stephen.marquard@uct.ac.za Sat Jan 5 09:14:16 2008'\n",
    "atpos = data.find('@')\n",
    "print(atpos)"
   ]
  },
  {
   "cell_type": "code",
   "execution_count": 60,
   "id": "d28be229",
   "metadata": {},
   "outputs": [
    {
     "name": "stdout",
     "output_type": "stream",
     "text": [
      "31\n"
     ]
    }
   ],
   "source": [
    "sppos = data.find(' ', atpos) #find starts from atpos\n",
    "print(sppos)"
   ]
  },
  {
   "cell_type": "code",
   "execution_count": 61,
   "id": "7f1ce7d3",
   "metadata": {},
   "outputs": [
    {
     "name": "stdout",
     "output_type": "stream",
     "text": [
      "uct.ac.za\n"
     ]
    }
   ],
   "source": [
    "host = data[atpos+1 : sppos]\n",
    "print(host)"
   ]
  },
  {
   "cell_type": "markdown",
   "id": "e7e75450",
   "metadata": {},
   "source": [
    "Assignment 6.5"
   ]
  },
  {
   "cell_type": "raw",
   "id": "191d5009",
   "metadata": {},
   "source": [
    "Write code using find() and string slicing to extract the number at the end of the line below. \n",
    "\n",
    "text = \"X-DSPAM-Confidence:    0.8475\"\n",
    "\n",
    "Convert the extracted value to a floating point number and print it out."
   ]
  },
  {
   "cell_type": "code",
   "execution_count": 64,
   "id": "f609cdac",
   "metadata": {},
   "outputs": [
    {
     "name": "stdout",
     "output_type": "stream",
     "text": [
      "0.8475\n"
     ]
    }
   ],
   "source": [
    "text = \"X-DSPAM-Confidence:    0.8475\"\n",
    "pos = text.find('0')\n",
    "num = text[pos:pos+6]\n",
    "num = float(num)\n",
    "print(num)"
   ]
  },
  {
   "cell_type": "code",
   "execution_count": null,
   "id": "1a469082",
   "metadata": {},
   "outputs": [],
   "source": []
  }
 ],
 "metadata": {
  "kernelspec": {
   "display_name": "Python 3 (ipykernel)",
   "language": "python",
   "name": "python3"
  },
  "language_info": {
   "codemirror_mode": {
    "name": "ipython",
    "version": 3
   },
   "file_extension": ".py",
   "mimetype": "text/x-python",
   "name": "python",
   "nbconvert_exporter": "python",
   "pygments_lexer": "ipython3",
   "version": "3.10.11"
  }
 },
 "nbformat": 4,
 "nbformat_minor": 5
}
