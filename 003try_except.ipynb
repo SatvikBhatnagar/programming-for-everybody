{
 "cells": [
  {
   "cell_type": "markdown",
   "id": "9b77a1cc",
   "metadata": {},
   "source": [
    "# The try/except Structure"
   ]
  },
  {
   "cell_type": "raw",
   "id": "d12e5293",
   "metadata": {},
   "source": [
    "You surround a dangerous section of code with try and except\n",
    "If the code in the try works - the except is skipped\n",
    "If the code in the try fails - it jumps to the except section"
   ]
  },
  {
   "cell_type": "code",
   "execution_count": 5,
   "id": "a8e403b7",
   "metadata": {},
   "outputs": [
    {
     "ename": "ValueError",
     "evalue": "invalid literal for int() with base 10: 'Hello Bob'",
     "output_type": "error",
     "traceback": [
      "\u001b[0;31m---------------------------------------------------------------------------\u001b[0m",
      "\u001b[0;31mValueError\u001b[0m                                Traceback (most recent call last)",
      "Cell \u001b[0;32mIn[5], line 2\u001b[0m\n\u001b[1;32m      1\u001b[0m astr \u001b[38;5;241m=\u001b[39m \u001b[38;5;124m'\u001b[39m\u001b[38;5;124mHello Bob\u001b[39m\u001b[38;5;124m'\u001b[39m\n\u001b[0;32m----> 2\u001b[0m istr \u001b[38;5;241m=\u001b[39m \u001b[38;5;28;43mint\u001b[39;49m\u001b[43m(\u001b[49m\u001b[43mastr\u001b[49m\u001b[43m)\u001b[49m\n\u001b[1;32m      3\u001b[0m \u001b[38;5;28mprint\u001b[39m(\u001b[38;5;124m'\u001b[39m\u001b[38;5;124mFirst\u001b[39m\u001b[38;5;124m'\u001b[39m, istr)\n\u001b[1;32m      4\u001b[0m astr \u001b[38;5;241m=\u001b[39m \u001b[38;5;124m'\u001b[39m\u001b[38;5;124m123\u001b[39m\u001b[38;5;124m'\u001b[39m\n",
      "\u001b[0;31mValueError\u001b[0m: invalid literal for int() with base 10: 'Hello Bob'"
     ]
    }
   ],
   "source": [
    "astr = 'Hello Bob'\n",
    "istr = int(astr)\n",
    "print('First', istr)\n",
    "astr = '123'\n",
    "istr = int(astr)\n",
    "print('Second', istr)"
   ]
  },
  {
   "cell_type": "code",
   "execution_count": 7,
   "id": "fa390716",
   "metadata": {},
   "outputs": [
    {
     "name": "stdout",
     "output_type": "stream",
     "text": [
      "First -1\n"
     ]
    }
   ],
   "source": [
    "astr = 'Hello Bob'\n",
    "try:\n",
    "    istr = int(astr)\n",
    "except:\n",
    "    istr = -1\n",
    "print(\"First\", istr)"
   ]
  },
  {
   "cell_type": "code",
   "execution_count": 8,
   "id": "34ece432",
   "metadata": {},
   "outputs": [
    {
     "name": "stdout",
     "output_type": "stream",
     "text": [
      "Second 123\n"
     ]
    }
   ],
   "source": [
    "astr = '123'\n",
    "try:\n",
    "    istr = int(astr)\n",
    "except:\n",
    "    istr = -1\n",
    "print(\"Second\", istr)"
   ]
  },
  {
   "cell_type": "raw",
   "id": "50a7965e",
   "metadata": {},
   "source": [
    "if code encounters an error anywher in the try block, it skips to except"
   ]
  },
  {
   "cell_type": "code",
   "execution_count": 9,
   "id": "3f38750e",
   "metadata": {},
   "outputs": [
    {
     "name": "stdout",
     "output_type": "stream",
     "text": [
      "Hello\n",
      "Done -1\n"
     ]
    }
   ],
   "source": [
    "astr = 'Bob'\n",
    "try:\n",
    "    print('Hello')\n",
    "    istr = int(astr)\n",
    "    print('There')\n",
    "except:\n",
    "    istr = -1\n",
    "print('Done', istr)"
   ]
  },
  {
   "cell_type": "markdown",
   "id": "46015f3c",
   "metadata": {},
   "source": [
    "# Sample try / except"
   ]
  },
  {
   "cell_type": "code",
   "execution_count": 12,
   "id": "ec6663ae",
   "metadata": {},
   "outputs": [
    {
     "name": "stdout",
     "output_type": "stream",
     "text": [
      "Enter a number: forty two\n",
      "Not a number\n"
     ]
    }
   ],
   "source": [
    "rawstr = input('Enter a number: ')\n",
    "try:\n",
    "    ival = int(rawstr)\n",
    "except:\n",
    "    ival = -1\n",
    "\n",
    "if ival > 0:\n",
    "    print('Nice work')\n",
    "else:\n",
    "    print('Not a number')"
   ]
  },
  {
   "cell_type": "raw",
   "id": "9832f4f9",
   "metadata": {},
   "source": [
    "3.1 Write a program to prompt the user for hours and rate per hour using input to compute gross pay. Pay the hourly rate for the hours up to 40 and 1.5 times the hourly rate for all hours worked above 40 hours. Use 45 hours and a rate of 10.50 per hour to test the program (the pay should be 498.75). You should use input to read a string and float() to convert the string to a number. Do not worry about error checking the user input - assume the user types numbers properly."
   ]
  },
  {
   "cell_type": "code",
   "execution_count": 13,
   "id": "3c04b003",
   "metadata": {},
   "outputs": [
    {
     "name": "stdout",
     "output_type": "stream",
     "text": [
      "Enter Hours:45\n",
      "Enter rate per hour:10.50\n",
      "498.75\n"
     ]
    }
   ],
   "source": [
    "hrs = input(\"Enter Hours:\")\n",
    "h = float(hrs)\n",
    "rph = input(\"Enter rate per hour:\")\n",
    "r = float(rph)\n",
    "if h <= 40:\n",
    "    pay = h*r\n",
    "else:\n",
    "    extra = h - 40\n",
    "    pay = (h-extra)*r + extra*(r*1.5)\n",
    "print(pay)"
   ]
  },
  {
   "cell_type": "markdown",
   "id": "a473f70d",
   "metadata": {},
   "source": [
    "rewritting the same code with try and except"
   ]
  },
  {
   "cell_type": "code",
   "execution_count": 1,
   "id": "5938d7ac",
   "metadata": {},
   "outputs": [
    {
     "name": "stdout",
     "output_type": "stream",
     "text": [
      "Enter Hours:ten\n",
      "Enter rate per hour:ten\n",
      "Error, pleae enter numeric input\n"
     ]
    },
    {
     "ename": "NameError",
     "evalue": "name 'h_' is not defined",
     "output_type": "error",
     "traceback": [
      "\u001b[0;31m---------------------------------------------------------------------------\u001b[0m",
      "\u001b[0;31mNameError\u001b[0m                                 Traceback (most recent call last)",
      "Cell \u001b[0;32mIn[1], line 9\u001b[0m\n\u001b[1;32m      7\u001b[0m     \u001b[38;5;28mprint\u001b[39m(\u001b[38;5;124m\"\u001b[39m\u001b[38;5;124mError, pleae enter numeric input\u001b[39m\u001b[38;5;124m\"\u001b[39m)\n\u001b[1;32m      8\u001b[0m     quit()\n\u001b[0;32m----> 9\u001b[0m \u001b[38;5;28;01mif\u001b[39;00m \u001b[43mh_\u001b[49m \u001b[38;5;241m<\u001b[39m\u001b[38;5;241m=\u001b[39m \u001b[38;5;241m40\u001b[39m:\n\u001b[1;32m     10\u001b[0m     pay_ \u001b[38;5;241m=\u001b[39m h_\u001b[38;5;241m*\u001b[39mr_\n\u001b[1;32m     11\u001b[0m \u001b[38;5;28;01melse\u001b[39;00m:\n",
      "\u001b[0;31mNameError\u001b[0m: name 'h_' is not defined"
     ]
    }
   ],
   "source": [
    "hrs_ = input(\"Enter Hours:\")\n",
    "rph_ = input(\"Enter rate per hour:\")\n",
    "try:\n",
    "    h_ = float(hrs_)\n",
    "    r_ = float(rph_)\n",
    "except:\n",
    "    print(\"Error, pleae enter numeric input\")\n",
    "    quit()\n",
    "if h_ <= 40:\n",
    "    pay_ = h_*r_\n",
    "else:\n",
    "    extra_ = h_ - 40\n",
    "    pay_ = (h_-extra_)*r_ + extra_*(r_*1.5)\n",
    "print(pay_)"
   ]
  },
  {
   "cell_type": "markdown",
   "id": "d0a2adf1",
   "metadata": {},
   "source": [
    "#the quit() above dosen't work with the IDEs"
   ]
  },
  {
   "cell_type": "raw",
   "id": "c5a5388a",
   "metadata": {},
   "source": [
    "Write a program to prompt for a score between 0.0 and 1.0. If the score is out of range, print an error. If the score is between 0.0 and 1.0, print a grade using the following table:\n",
    "Score Grade\n",
    ">= 0.9 A\n",
    ">= 0.8 B\n",
    ">= 0.7 C\n",
    ">= 0.6 D\n",
    "< 0.6 F\n",
    "If the user enters a value out of range, print a suitable error message and exit. For the test, enter a score of 0.85."
   ]
  },
  {
   "cell_type": "code",
   "execution_count": 4,
   "id": "b2dc35bb",
   "metadata": {},
   "outputs": [
    {
     "name": "stdout",
     "output_type": "stream",
     "text": [
      "Enter score between 0.0 and 1.0: 0.85\n",
      "B\n"
     ]
    }
   ],
   "source": [
    "score = input(\"Enter score between 0.0 and 1.0: \")\n",
    "try:\n",
    "    sf = float(score)\n",
    "except:\n",
    "    print(\"Enter a valid score\")\n",
    "    quit()\n",
    "if sf < 0.0:\n",
    "    print(\"Score out of range\")\n",
    "elif sf > 1.0:\n",
    "    print(\"Score out of range\")\n",
    "else:\n",
    "    if sf >= 0.9:\n",
    "        print(\"A\")\n",
    "    elif sf >= 0.8:\n",
    "        print(\"B\")\n",
    "    elif sf >= 0.7:\n",
    "        print(\"C\")\n",
    "    elif sf >= 0.6:\n",
    "        print(\"D\")\n",
    "    else:\n",
    "        print(\"F\")"
   ]
  },
  {
   "cell_type": "code",
   "execution_count": null,
   "id": "8d37b7e0",
   "metadata": {},
   "outputs": [],
   "source": []
  }
 ],
 "metadata": {
  "kernelspec": {
   "display_name": "Python 3 (ipykernel)",
   "language": "python",
   "name": "python3"
  },
  "language_info": {
   "codemirror_mode": {
    "name": "ipython",
    "version": 3
   },
   "file_extension": ".py",
   "mimetype": "text/x-python",
   "name": "python",
   "nbconvert_exporter": "python",
   "pygments_lexer": "ipython3",
   "version": "3.10.11"
  }
 },
 "nbformat": 4,
 "nbformat_minor": 5
}
