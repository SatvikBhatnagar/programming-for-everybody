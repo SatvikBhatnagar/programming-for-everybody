{
 "cells": [
  {
   "cell_type": "markdown",
   "id": "f016749c",
   "metadata": {},
   "source": [
    "# Definite Loops"
   ]
  },
  {
   "cell_type": "code",
   "execution_count": 2,
   "id": "9fa57c23",
   "metadata": {},
   "outputs": [],
   "source": [
    "## For loop"
   ]
  },
  {
   "cell_type": "code",
   "execution_count": 3,
   "id": "83302e78",
   "metadata": {},
   "outputs": [
    {
     "name": "stdout",
     "output_type": "stream",
     "text": [
      "5\n",
      "4\n",
      "3\n",
      "2\n",
      "1\n",
      "Blastoff!\n"
     ]
    }
   ],
   "source": [
    "for i in [5, 4, 3, 2, 1]:\n",
    "    print(i)\n",
    "print('Blastoff!')"
   ]
  },
  {
   "cell_type": "code",
   "execution_count": 5,
   "id": "1d0c93e1",
   "metadata": {},
   "outputs": [
    {
     "name": "stdout",
     "output_type": "stream",
     "text": [
      "Happy New Year: Joseph\n",
      "Happy New Year: Glenn\n",
      "Happy New Year: Sally\n",
      "Done!\n"
     ]
    }
   ],
   "source": [
    "friends = ['Joseph', 'Glenn', 'Sally']\n",
    "for friend in friends:\n",
    "    print('Happy New Year:', friend)\n",
    "print('Done!')"
   ]
  },
  {
   "cell_type": "raw",
   "id": "afc4fc80",
   "metadata": {},
   "source": [
    "Definite loops (for loops) have explicit iteration variables that change each time through a loop. These iteration variables move through the sequence or set."
   ]
  },
  {
   "cell_type": "code",
   "execution_count": 6,
   "id": "a0c8771b",
   "metadata": {},
   "outputs": [],
   "source": [
    "## Finding the Largest Value"
   ]
  },
  {
   "cell_type": "markdown",
   "id": "eac08f4f",
   "metadata": {},
   "source": [
    "'''we make a variable that contains the largest value we have seen so far.\n",
    "If the current number we are looking at is larger, it is the new largest\n",
    "value we have seen so far.'''"
   ]
  },
  {
   "cell_type": "code",
   "execution_count": 9,
   "id": "dec7fec7",
   "metadata": {},
   "outputs": [
    {
     "name": "stdout",
     "output_type": "stream",
     "text": [
      "Before -1\n",
      "9 9\n",
      "41 41\n",
      "41 12\n",
      "41 3\n",
      "74 74\n",
      "74 15\n",
      "After 74\n"
     ]
    }
   ],
   "source": [
    "largest_so_far = -1\n",
    "print('Before', largest_so_far)\n",
    "for the_num in [9, 41, 12, 3, 74, 15]:\n",
    "    if the_num > largest_so_far :\n",
    "        largest_so_far = the_num\n",
    "    print(largest_so_far, the_num)\n",
    "\n",
    "print('After', largest_so_far)"
   ]
  },
  {
   "cell_type": "code",
   "execution_count": 13,
   "id": "de539ea4",
   "metadata": {},
   "outputs": [],
   "source": [
    "## Counting in a Loop"
   ]
  },
  {
   "cell_type": "markdown",
   "id": "c4914e4a",
   "metadata": {},
   "source": [
    "'''to count how many times we execute a loop, we introduce a counter variable that starts at 0\n",
    "and we add one to it each time through the loop'''"
   ]
  },
  {
   "cell_type": "code",
   "execution_count": 12,
   "id": "d852e4d2",
   "metadata": {},
   "outputs": [
    {
     "name": "stdout",
     "output_type": "stream",
     "text": [
      "Before 0\n",
      "1 9\n",
      "2 41\n",
      "3 12\n",
      "4 3\n",
      "5 74\n",
      "6 15\n",
      "After 6\n"
     ]
    }
   ],
   "source": [
    "zork = 0\n",
    "print('Before', zork)\n",
    "for thing in [9, 41, 12, 3, 74, 15]:\n",
    "    zork = zork + 1\n",
    "    print(zork, thing)\n",
    "print('After', zork)"
   ]
  },
  {
   "cell_type": "code",
   "execution_count": 15,
   "id": "22e7356f",
   "metadata": {},
   "outputs": [],
   "source": [
    "## Summing in a Loop"
   ]
  },
  {
   "cell_type": "code",
   "execution_count": 16,
   "id": "d58a1fd2",
   "metadata": {},
   "outputs": [
    {
     "name": "stdout",
     "output_type": "stream",
     "text": [
      "Before 0\n",
      "9 9\n",
      "50 41\n",
      "62 12\n",
      "65 3\n",
      "139 74\n",
      "154 15\n",
      "After 154\n"
     ]
    }
   ],
   "source": [
    "zork = 0\n",
    "print('Before', zork)\n",
    "for thing in [9, 41, 12, 3, 74, 15]:\n",
    "    zork = zork + thing\n",
    "    print(zork, thing)\n",
    "print('After', zork)"
   ]
  },
  {
   "cell_type": "code",
   "execution_count": 19,
   "id": "a3c43047",
   "metadata": {},
   "outputs": [],
   "source": [
    "## Finding the Average in a Loop"
   ]
  },
  {
   "cell_type": "code",
   "execution_count": null,
   "id": "b476d7b7",
   "metadata": {},
   "outputs": [],
   "source": [
    "'''An average just combines the counting and sum patterns and divides when the loop is done'''"
   ]
  },
  {
   "cell_type": "code",
   "execution_count": 18,
   "id": "de4cde1e",
   "metadata": {},
   "outputs": [
    {
     "name": "stdout",
     "output_type": "stream",
     "text": [
      "Before 0 0\n",
      "1 9 9\n",
      "2 50 41\n",
      "3 62 12\n",
      "4 65 3\n",
      "5 139 74\n",
      "6 154 15\n",
      "After 6 154 25.666666666666668\n"
     ]
    }
   ],
   "source": [
    "count = 0\n",
    "sum = 0\n",
    "print('Before', count, sum)\n",
    "for value in [9, 41, 12, 3, 74, 15] :\n",
    "    count = count + 1\n",
    "    sum = sum + value\n",
    "    print(count, sum, value)\n",
    "print('After', count, sum, sum/count)"
   ]
  },
  {
   "cell_type": "code",
   "execution_count": 20,
   "id": "edd2888d",
   "metadata": {},
   "outputs": [],
   "source": [
    "## Filtering in a Loop"
   ]
  },
  {
   "cell_type": "markdown",
   "id": "46041414",
   "metadata": {},
   "source": [
    "'''we use an if statement in the loop to catch / filter the values we are looking for'''"
   ]
  },
  {
   "cell_type": "code",
   "execution_count": 22,
   "id": "f48c0ae3",
   "metadata": {},
   "outputs": [
    {
     "name": "stdout",
     "output_type": "stream",
     "text": [
      "Before\n",
      "Large number 41\n",
      "Large number 74\n",
      "After\n"
     ]
    }
   ],
   "source": [
    "print('Before')\n",
    "for value in [9, 41, 12, 3, 74, 15]:\n",
    "    if value > 20:\n",
    "        print('Large number', value)\n",
    "print('After')"
   ]
  },
  {
   "cell_type": "code",
   "execution_count": 23,
   "id": "8349f0af",
   "metadata": {},
   "outputs": [],
   "source": [
    "## Search Using a Boolean Variable"
   ]
  },
  {
   "cell_type": "markdown",
   "id": "c661327a",
   "metadata": {},
   "source": [
    "'''if we just want to search and know if a value was found, we use a variable that starts\n",
    "at False and is set to True as soon as we find what we are looking for'''"
   ]
  },
  {
   "cell_type": "code",
   "execution_count": 24,
   "id": "6f3f1953",
   "metadata": {},
   "outputs": [
    {
     "name": "stdout",
     "output_type": "stream",
     "text": [
      "Before False\n",
      "False 8\n",
      "False 41\n",
      "False 12\n",
      "True 3\n",
      "True 74\n",
      "True 15\n",
      "After True\n"
     ]
    }
   ],
   "source": [
    "found = False\n",
    "print('Before', found)\n",
    "for value in [8, 41, 12, 3, 74, 15]:\n",
    "    if value == 3:\n",
    "        found = True\n",
    "    print(found, value)\n",
    "print('After', found)"
   ]
  },
  {
   "cell_type": "code",
   "execution_count": 26,
   "id": "00ba4c8e",
   "metadata": {},
   "outputs": [],
   "source": [
    "## Finding the smallest Value"
   ]
  },
  {
   "cell_type": "code",
   "execution_count": 28,
   "id": "1a679a84",
   "metadata": {},
   "outputs": [
    {
     "name": "stdout",
     "output_type": "stream",
     "text": [
      "Before 99\n",
      "9 9\n",
      "9 41\n",
      "9 12\n",
      "3 3\n",
      "3 74\n",
      "3 15\n",
      "After 3\n"
     ]
    }
   ],
   "source": [
    "smallest_so_far = 99 ##called flag value\n",
    "print('Before', smallest_so_far)\n",
    "for the_num in [9, 41, 12, 3, 74, 15]:\n",
    "    if the_num < smallest_so_far:\n",
    "        smallest_so_far = the_num\n",
    "    print(smallest_so_far, the_num)\n",
    "print('After', smallest_so_far)"
   ]
  },
  {
   "cell_type": "markdown",
   "id": "0cfaff42",
   "metadata": {},
   "source": [
    "# None Type"
   ]
  },
  {
   "cell_type": "markdown",
   "id": "e014153b",
   "metadata": {},
   "source": [
    "'''we still have a variable that is the smallest so far. The first time through the loop smallest is None, so we take the first value to be the smallest.'''"
   ]
  },
  {
   "cell_type": "code",
   "execution_count": 29,
   "id": "94831eba",
   "metadata": {},
   "outputs": [
    {
     "name": "stdout",
     "output_type": "stream",
     "text": [
      "Before\n",
      "9 9\n",
      "9 41\n",
      "9 12\n",
      "3 3\n",
      "3 74\n",
      "3 15\n",
      "After 3\n"
     ]
    }
   ],
   "source": [
    "smallest = None\n",
    "print('Before')\n",
    "for value in [9, 41, 12, 3, 74, 15] :\n",
    "    if smallest is None:\n",
    "        smallest = value\n",
    "    elif value < smallest :\n",
    "        smallest = value\n",
    "    print(smallest, value)\n",
    "print('After', smallestbb)"
   ]
  },
  {
   "cell_type": "markdown",
   "id": "e12f617c",
   "metadata": {},
   "source": [
    "# The \"is\" and \"is not\" Operators"
   ]
  },
  {
   "cell_type": "markdown",
   "id": "79385ddf",
   "metadata": {},
   "source": [
    "- python has an 'is' operator that can be used in logical expressions\n",
    "- implies \"is the same as\"\n",
    "- similar to, but stronger than ==\n",
    "- \"is not\" also is a logical operator"
   ]
  },
  {
   "cell_type": "code",
   "execution_count": null,
   "id": "5375e597",
   "metadata": {},
   "outputs": [],
   "source": [
    "smallest = None\n",
    "print('Before')\n",
    "for value in [9, 41, 12, 3, 74, 15] :\n",
    "    if smallest is None:\n",
    "        smallest = value\n",
    "    elif value < smallest :\n",
    "        smallest = value\n",
    "    print(smallest, value)\n",
    "print('After', smallest)"
   ]
  },
  {
   "cell_type": "markdown",
   "id": "028f1fa4",
   "metadata": {},
   "source": [
    "Assignment 5.2"
   ]
  },
  {
   "cell_type": "raw",
   "id": "0cc63577",
   "metadata": {},
   "source": [
    "Write a program that repeatedly prompts a user for integer numbers until the user enters 'done'. Once 'done' is entered, print out the largest and smallest of the numbers. If the user enters anything other than a valid number catch it with a try/except and put out an appropriate message and ignore the number. Enter 7, 2, bob, 10, and 4 and match the output below.\n",
    "\n",
    "Desired Output:\n",
    "Invalid input\n",
    "Maximum is 10\n",
    "Minimum is 2"
   ]
  },
  {
   "cell_type": "code",
   "execution_count": 46,
   "id": "aa6c50a2",
   "metadata": {},
   "outputs": [
    {
     "name": "stdout",
     "output_type": "stream",
     "text": [
      "Enter a number: 7\n",
      "Enter a number: 2\n",
      "Enter a number: bob\n",
      "Invalid input\n",
      "Enter a number: 10\n",
      "Enter a number: 4\n",
      "Enter a number: done\n",
      "Maximum 10\n",
      "Minimum 2\n"
     ]
    }
   ],
   "source": [
    "largest = None\n",
    "smallest = None\n",
    "temp = None\n",
    "while True:\n",
    "    num = input(\"Enter a number: \")\n",
    "    if num == \"done\":\n",
    "        break\n",
    "    try:\n",
    "        temp = int(num)\n",
    "    except:\n",
    "        print(\"Invalid input\")\n",
    "        continue\n",
    "        \n",
    "    if smallest is None:\n",
    "        smallest = temp\n",
    "    elif temp < smallest:\n",
    "        if largest is None:\n",
    "            largest = smallest\n",
    "            smallest = temp\n",
    "        else:\n",
    "            smallest = temp\n",
    "    elif temp > smallest:\n",
    "        if largest is None:\n",
    "            largest = temp\n",
    "        elif temp > largest:\n",
    "            largest = temp\n",
    "        else:\n",
    "            continue\n",
    "    else:\n",
    "        continue\n",
    "\n",
    "print(\"Maximum\", largest)\n",
    "print(\"Minimum\", smallest)"
   ]
  },
  {
   "cell_type": "code",
   "execution_count": null,
   "id": "7f5b1b0c",
   "metadata": {},
   "outputs": [],
   "source": []
  }
 ],
 "metadata": {
  "kernelspec": {
   "display_name": "Python 3 (ipykernel)",
   "language": "python",
   "name": "python3"
  },
  "language_info": {
   "codemirror_mode": {
    "name": "ipython",
    "version": 3
   },
   "file_extension": ".py",
   "mimetype": "text/x-python",
   "name": "python",
   "nbconvert_exporter": "python",
   "pygments_lexer": "ipython3",
   "version": "3.10.11"
  }
 },
 "nbformat": 4,
 "nbformat_minor": 5
}
