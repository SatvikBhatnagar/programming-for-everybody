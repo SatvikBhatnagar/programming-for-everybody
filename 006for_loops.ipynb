{
 "cells": [
  {
   "cell_type": "markdown",
   "id": "2c7e61e0",
   "metadata": {},
   "source": [
    "# Definite Loops"
   ]
  },
  {
   "cell_type": "code",
   "execution_count": 2,
   "id": "52543c1b",
   "metadata": {},
   "outputs": [],
   "source": [
    "## For loop"
   ]
  },
  {
   "cell_type": "code",
   "execution_count": 3,
   "id": "dcd45634",
   "metadata": {},
   "outputs": [
    {
     "name": "stdout",
     "output_type": "stream",
     "text": [
      "5\n",
      "4\n",
      "3\n",
      "2\n",
      "1\n",
      "Blastoff!\n"
     ]
    }
   ],
   "source": [
    "for i in [5, 4, 3, 2, 1]:\n",
    "    print(i)\n",
    "print('Blastoff!')"
   ]
  },
  {
   "cell_type": "code",
   "execution_count": 5,
   "id": "099689d7",
   "metadata": {},
   "outputs": [
    {
     "name": "stdout",
     "output_type": "stream",
     "text": [
      "Happy New Year: Joseph\n",
      "Happy New Year: Glenn\n",
      "Happy New Year: Sally\n",
      "Done!\n"
     ]
    }
   ],
   "source": [
    "friends = ['Joseph', 'Glenn', 'Sally']\n",
    "for friend in friends:\n",
    "    print('Happy New Year:', friend)\n",
    "print('Done!')"
   ]
  },
  {
   "cell_type": "raw",
   "id": "42d2f184",
   "metadata": {},
   "source": [
    "Definite loops (for loops) have explicit iteration variables that change each time through a loop. These iteration variables move through the sequence or set."
   ]
  },
  {
   "cell_type": "code",
   "execution_count": 6,
   "id": "e7983a86",
   "metadata": {},
   "outputs": [],
   "source": [
    "## Finding the Largest Value"
   ]
  },
  {
   "cell_type": "markdown",
   "id": "2a73e79b",
   "metadata": {},
   "source": [
    "'''we make a variable that contains the largest value we have seen so far.\n",
    "If the current number we are looking at is larger, it is the new largest\n",
    "value we have seen so far.'''"
   ]
  },
  {
   "cell_type": "code",
   "execution_count": 9,
   "id": "6fc4b647",
   "metadata": {},
   "outputs": [
    {
     "name": "stdout",
     "output_type": "stream",
     "text": [
      "Before -1\n",
      "9 9\n",
      "41 41\n",
      "41 12\n",
      "41 3\n",
      "74 74\n",
      "74 15\n",
      "After 74\n"
     ]
    }
   ],
   "source": [
    "largest_so_far = -1\n",
    "print('Before', largest_so_far)\n",
    "for the_num in [9, 41, 12, 3, 74, 15]:\n",
    "    if the_num > largest_so_far :\n",
    "        largest_so_far = the_num\n",
    "    print(largest_so_far, the_num)\n",
    "\n",
    "print('After', largest_so_far)"
   ]
  },
  {
   "cell_type": "code",
   "execution_count": 13,
   "id": "ba4df3e3",
   "metadata": {},
   "outputs": [],
   "source": [
    "## Counting in a Loop"
   ]
  },
  {
   "cell_type": "markdown",
   "id": "81f9f178",
   "metadata": {},
   "source": [
    "'''to count how many times we execute a loop, we introduce a counter variable that starts at 0\n",
    "and we add one to it each time through the loop'''"
   ]
  },
  {
   "cell_type": "code",
   "execution_count": 12,
   "id": "2dc93a68",
   "metadata": {},
   "outputs": [
    {
     "name": "stdout",
     "output_type": "stream",
     "text": [
      "Before 0\n",
      "1 9\n",
      "2 41\n",
      "3 12\n",
      "4 3\n",
      "5 74\n",
      "6 15\n",
      "After 6\n"
     ]
    }
   ],
   "source": [
    "zork = 0\n",
    "print('Before', zork)\n",
    "for thing in [9, 41, 12, 3, 74, 15]:\n",
    "    zork = zork + 1\n",
    "    print(zork, thing)\n",
    "print('After', zork)"
   ]
  },
  {
   "cell_type": "code",
   "execution_count": 15,
   "id": "cf28d9c6",
   "metadata": {},
   "outputs": [],
   "source": [
    "## Summing in a Loop"
   ]
  },
  {
   "cell_type": "code",
   "execution_count": 16,
   "id": "a7629008",
   "metadata": {},
   "outputs": [
    {
     "name": "stdout",
     "output_type": "stream",
     "text": [
      "Before 0\n",
      "9 9\n",
      "50 41\n",
      "62 12\n",
      "65 3\n",
      "139 74\n",
      "154 15\n",
      "After 154\n"
     ]
    }
   ],
   "source": [
    "zork = 0\n",
    "print('Before', zork)\n",
    "for thing in [9, 41, 12, 3, 74, 15]:\n",
    "    zork = zork + thing\n",
    "    print(zork, thing)\n",
    "print('After', zork)"
   ]
  },
  {
   "cell_type": "code",
   "execution_count": 19,
   "id": "ee584c11",
   "metadata": {},
   "outputs": [],
   "source": [
    "## Finding the Average in a Loop"
   ]
  },
  {
   "cell_type": "code",
   "execution_count": null,
   "id": "36233b6f",
   "metadata": {},
   "outputs": [],
   "source": [
    "'''An average just combines the counting and sum patterns and divides when the loop is done'''"
   ]
  },
  {
   "cell_type": "code",
   "execution_count": 18,
   "id": "8e7d4e7e",
   "metadata": {},
   "outputs": [
    {
     "name": "stdout",
     "output_type": "stream",
     "text": [
      "Before 0 0\n",
      "1 9 9\n",
      "2 50 41\n",
      "3 62 12\n",
      "4 65 3\n",
      "5 139 74\n",
      "6 154 15\n",
      "After 6 154 25.666666666666668\n"
     ]
    }
   ],
   "source": [
    "count = 0\n",
    "sum = 0\n",
    "print('Before', count, sum)\n",
    "for value in [9, 41, 12, 3, 74, 15] :\n",
    "    count = count + 1\n",
    "    sum = sum + value\n",
    "    print(count, sum, value)\n",
    "print('After', count, sum, sum/count)"
   ]
  },
  {
   "cell_type": "code",
   "execution_count": 20,
   "id": "62f26d5d",
   "metadata": {},
   "outputs": [],
   "source": [
    "## Filtering in a Loop"
   ]
  },
  {
   "cell_type": "markdown",
   "id": "28380adb",
   "metadata": {},
   "source": [
    "'''we use an if statement in the loop to catch / filter the values we are looking for'''"
   ]
  },
  {
   "cell_type": "code",
   "execution_count": 22,
   "id": "8fc1b0e0",
   "metadata": {},
   "outputs": [
    {
     "name": "stdout",
     "output_type": "stream",
     "text": [
      "Before\n",
      "Large number 41\n",
      "Large number 74\n",
      "After\n"
     ]
    }
   ],
   "source": [
    "print('Before')\n",
    "for value in [9, 41, 12, 3, 74, 15]:\n",
    "    if value > 20:\n",
    "        print('Large number', value)\n",
    "print('After')"
   ]
  },
  {
   "cell_type": "code",
   "execution_count": 23,
   "id": "bee6ad3a",
   "metadata": {},
   "outputs": [],
   "source": [
    "## Search Using a Boolean Variable"
   ]
  },
  {
   "cell_type": "markdown",
   "id": "40af9212",
   "metadata": {},
   "source": [
    "'''if we just want to search and know if a value was found, we use a variable that starts\n",
    "at False and is set to True as soon as we find what we are looking for'''"
   ]
  },
  {
   "cell_type": "code",
   "execution_count": 24,
   "id": "86bfcc99",
   "metadata": {},
   "outputs": [
    {
     "name": "stdout",
     "output_type": "stream",
     "text": [
      "Before False\n",
      "False 8\n",
      "False 41\n",
      "False 12\n",
      "True 3\n",
      "True 74\n",
      "True 15\n",
      "After True\n"
     ]
    }
   ],
   "source": [
    "found = False\n",
    "print('Before', found)\n",
    "for value in [8, 41, 12, 3, 74, 15]:\n",
    "    if value == 3:\n",
    "        found = True\n",
    "    print(found, value)\n",
    "print('After', found)"
   ]
  },
  {
   "cell_type": "code",
   "execution_count": 26,
   "id": "b4a6c2e3",
   "metadata": {},
   "outputs": [],
   "source": [
    "## Finding the smallest Value"
   ]
  },
  {
   "cell_type": "code",
   "execution_count": 28,
   "id": "e93f3772",
   "metadata": {},
   "outputs": [
    {
     "name": "stdout",
     "output_type": "stream",
     "text": [
      "Before 99\n",
      "9 9\n",
      "9 41\n",
      "9 12\n",
      "3 3\n",
      "3 74\n",
      "3 15\n",
      "After 3\n"
     ]
    }
   ],
   "source": [
    "smallest_so_far = 99 ##called flag value\n",
    "print('Before', smallest_so_far)\n",
    "for the_num in [9, 41, 12, 3, 74, 15]:\n",
    "    if the_num < smallest_so_far:\n",
    "        smallest_so_far = the_num\n",
    "    print(smallest_so_far, the_num)\n",
    "print('After', smallest_so_far)"
   ]
  },
  {
   "cell_type": "markdown",
   "id": "53123728",
   "metadata": {},
   "source": [
    "# None Type"
   ]
  },
  {
   "cell_type": "markdown",
   "id": "bbfc2211",
   "metadata": {},
   "source": [
    "'''we still have a variable that is the smallest so far. The first time through the loop smallest is None, so we take the first value to be the smallest.'''"
   ]
  },
  {
   "cell_type": "code",
   "execution_count": 29,
   "id": "dc900bf5",
   "metadata": {},
   "outputs": [
    {
     "name": "stdout",
     "output_type": "stream",
     "text": [
      "Before\n",
      "9 9\n",
      "9 41\n",
      "9 12\n",
      "3 3\n",
      "3 74\n",
      "3 15\n",
      "After 3\n"
     ]
    }
   ],
   "source": [
    "smallest = None\n",
    "print('Before')\n",
    "for value in [9, 41, 12, 3, 74, 15] :\n",
    "    if smallest is None:\n",
    "        smallest = value\n",
    "    elif value < smallest :\n",
    "        smallest = value\n",
    "    print(smallest, value)\n",
    "print('After', smallestbb)"
   ]
  },
  {
   "cell_type": "markdown",
   "id": "bb842bf6",
   "metadata": {},
   "source": [
    "# The \"is\" and \"is not\" Operators"
   ]
  },
  {
   "cell_type": "markdown",
   "id": "2562a761",
   "metadata": {},
   "source": [
    "- python has an 'is' operator that can be used in logical expressions\n",
    "- implies \"is the same as\"\n",
    "- similar to, but stronger than ==\n",
    "- \"is not\" also is a logical operator"
   ]
  },
  {
   "cell_type": "code",
   "execution_count": null,
   "id": "4a83b4b3",
   "metadata": {},
   "outputs": [],
   "source": [
    "smallest = None\n",
    "print('Before')\n",
    "for value in [9, 41, 12, 3, 74, 15] :\n",
    "    if smallest is None:\n",
    "        smallest = value\n",
    "    elif value < smallest :\n",
    "        smallest = value\n",
    "    print(smallest, value)\n",
    "print('After', smallest)"
   ]
  },
  {
   "cell_type": "markdown",
   "id": "d08f1fc4",
   "metadata": {},
   "source": [
    "Assignment 5.2"
   ]
  },
  {
   "cell_type": "raw",
   "id": "7fc2a75c",
   "metadata": {},
   "source": [
    "Write a program that repeatedly prompts a user for integer numbers until the user enters 'done'. Once 'done' is entered, print out the largest and smallest of the numbers. If the user enters anything other than a valid number catch it with a try/except and put out an appropriate message and ignore the number. Enter 7, 2, bob, 10, and 4 and match the output below.\n",
    "\n",
    "Desired Output:\n",
    "Invalid input\n",
    "Maximum is 10\n",
    "Minimum is 2"
   ]
  },
  {
   "cell_type": "code",
   "execution_count": 47,
   "id": "32da467d",
   "metadata": {},
   "outputs": [
    {
     "name": "stdout",
     "output_type": "stream",
     "text": [
      "Enter a number: 7\n",
      "Enter a number: 2\n",
      "Enter a number: bob\n",
      "Invalid input\n",
      "Enter a number: 10\n",
      "Enter a number: 4\n",
      "Enter a number: done\n",
      "Maximum is 10\n",
      "Minimum is 2\n"
     ]
    }
   ],
   "source": [
    "largest = None\n",
    "smallest = None\n",
    "temp = None\n",
    "while True:\n",
    "    num = input(\"Enter a number: \")\n",
    "    if num == \"done\":\n",
    "        break\n",
    "    try:\n",
    "        temp = int(num)\n",
    "    except:\n",
    "        print(\"Invalid input\")\n",
    "        continue\n",
    "        \n",
    "    if smallest is None:\n",
    "        smallest = temp\n",
    "    elif temp < smallest:\n",
    "        if largest is None:\n",
    "            largest = smallest\n",
    "            smallest = temp\n",
    "        else:\n",
    "            smallest = temp\n",
    "    elif temp > smallest:\n",
    "        if largest is None:\n",
    "            largest = temp\n",
    "        elif temp > largest:\n",
    "            largest = temp\n",
    "        else:\n",
    "            continue\n",
    "    else:\n",
    "        continue\n",
    "\n",
    "print(\"Maximum is\", largest)\n",
    "print(\"Minimum is\", smallest)"
   ]
  }
 ],
 "metadata": {
  "kernelspec": {
   "display_name": "Python 3 (ipykernel)",
   "language": "python",
   "name": "python3"
  },
  "language_info": {
   "codemirror_mode": {
    "name": "ipython",
    "version": 3
   },
   "file_extension": ".py",
   "mimetype": "text/x-python",
   "name": "python",
   "nbconvert_exporter": "python",
   "pygments_lexer": "ipython3",
   "version": "3.10.11"
  }
 },
 "nbformat": 4,
 "nbformat_minor": 5
}
