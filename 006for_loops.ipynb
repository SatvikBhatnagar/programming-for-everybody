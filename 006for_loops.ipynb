{
 "cells": [
  {
   "cell_type": "markdown",
   "id": "d3efb042",
   "metadata": {},
   "source": [
    "# Definite Loops"
   ]
  },
  {
   "cell_type": "code",
   "execution_count": 2,
   "id": "da6fda9c",
   "metadata": {},
   "outputs": [],
   "source": [
    "## For loop"
   ]
  },
  {
   "cell_type": "code",
   "execution_count": 3,
   "id": "7f591ed2",
   "metadata": {},
   "outputs": [
    {
     "name": "stdout",
     "output_type": "stream",
     "text": [
      "5\n",
      "4\n",
      "3\n",
      "2\n",
      "1\n",
      "Blastoff!\n"
     ]
    }
   ],
   "source": [
    "for i in [5, 4, 3, 2, 1]:\n",
    "    print(i)\n",
    "print('Blastoff!')"
   ]
  },
  {
   "cell_type": "code",
   "execution_count": 5,
   "id": "66d21e89",
   "metadata": {},
   "outputs": [
    {
     "name": "stdout",
     "output_type": "stream",
     "text": [
      "Happy New Year: Joseph\n",
      "Happy New Year: Glenn\n",
      "Happy New Year: Sally\n",
      "Done!\n"
     ]
    }
   ],
   "source": [
    "friends = ['Joseph', 'Glenn', 'Sally']\n",
    "for friend in friends:\n",
    "    print('Happy New Year:', friend)\n",
    "print('Done!')"
   ]
  },
  {
   "cell_type": "raw",
   "id": "8e0ba7b1",
   "metadata": {},
   "source": [
    "Definite loops (for loops) have explicit iteration variables that change each time through a loop. These iteration variables move through the sequence or set."
   ]
  },
  {
   "cell_type": "code",
   "execution_count": 6,
   "id": "9e797c50",
   "metadata": {},
   "outputs": [],
   "source": [
    "## Finding the Largest Value"
   ]
  },
  {
   "cell_type": "markdown",
   "id": "8b00d3c9",
   "metadata": {},
   "source": [
    "'''we make a variable that contains the largest value we have seen so far.\n",
    "If the current number we are looking at is larger, it is the new largest\n",
    "value we have seen so far.'''"
   ]
  },
  {
   "cell_type": "code",
   "execution_count": 9,
   "id": "e45f3578",
   "metadata": {},
   "outputs": [
    {
     "name": "stdout",
     "output_type": "stream",
     "text": [
      "Before -1\n",
      "9 9\n",
      "41 41\n",
      "41 12\n",
      "41 3\n",
      "74 74\n",
      "74 15\n",
      "After 74\n"
     ]
    }
   ],
   "source": [
    "largest_so_far = -1\n",
    "print('Before', largest_so_far)\n",
    "for the_num in [9, 41, 12, 3, 74, 15]:\n",
    "    if the_num > largest_so_far :\n",
    "        largest_so_far = the_num\n",
    "    print(largest_so_far, the_num)\n",
    "\n",
    "print('After', largest_so_far)"
   ]
  },
  {
   "cell_type": "code",
   "execution_count": 13,
   "id": "0ae7d978",
   "metadata": {},
   "outputs": [],
   "source": [
    "## Counting in a Loop"
   ]
  },
  {
   "cell_type": "markdown",
   "id": "97e624e0",
   "metadata": {},
   "source": [
    "'''to count how many times we execute a loop, we introduce a counter variable that starts at 0\n",
    "and we add one to it each time through the loop'''"
   ]
  },
  {
   "cell_type": "code",
   "execution_count": 12,
   "id": "7d5542a4",
   "metadata": {},
   "outputs": [
    {
     "name": "stdout",
     "output_type": "stream",
     "text": [
      "Before 0\n",
      "1 9\n",
      "2 41\n",
      "3 12\n",
      "4 3\n",
      "5 74\n",
      "6 15\n",
      "After 6\n"
     ]
    }
   ],
   "source": [
    "zork = 0\n",
    "print('Before', zork)\n",
    "for thing in [9, 41, 12, 3, 74, 15]:\n",
    "    zork = zork + 1\n",
    "    print(zork, thing)\n",
    "print('After', zork)"
   ]
  },
  {
   "cell_type": "code",
   "execution_count": 15,
   "id": "627a77a5",
   "metadata": {},
   "outputs": [],
   "source": [
    "## Summing in a Loop"
   ]
  },
  {
   "cell_type": "code",
   "execution_count": 16,
   "id": "ad868c9f",
   "metadata": {},
   "outputs": [
    {
     "name": "stdout",
     "output_type": "stream",
     "text": [
      "Before 0\n",
      "9 9\n",
      "50 41\n",
      "62 12\n",
      "65 3\n",
      "139 74\n",
      "154 15\n",
      "After 154\n"
     ]
    }
   ],
   "source": [
    "zork = 0\n",
    "print('Before', zork)\n",
    "for thing in [9, 41, 12, 3, 74, 15]:\n",
    "    zork = zork + thing\n",
    "    print(zork, thing)\n",
    "print('After', zork)"
   ]
  },
  {
   "cell_type": "code",
   "execution_count": 19,
   "id": "146f9678",
   "metadata": {},
   "outputs": [],
   "source": [
    "## Finding the Average in a Loop"
   ]
  },
  {
   "cell_type": "code",
   "execution_count": null,
   "id": "4e5f6de9",
   "metadata": {},
   "outputs": [],
   "source": [
    "'''An average just combines the counting and sum patterns and divides when the loop is done'''"
   ]
  },
  {
   "cell_type": "code",
   "execution_count": 18,
   "id": "35f9ae97",
   "metadata": {},
   "outputs": [
    {
     "name": "stdout",
     "output_type": "stream",
     "text": [
      "Before 0 0\n",
      "1 9 9\n",
      "2 50 41\n",
      "3 62 12\n",
      "4 65 3\n",
      "5 139 74\n",
      "6 154 15\n",
      "After 6 154 25.666666666666668\n"
     ]
    }
   ],
   "source": [
    "count = 0\n",
    "sum = 0\n",
    "print('Before', count, sum)\n",
    "for value in [9, 41, 12, 3, 74, 15] :\n",
    "    count = count + 1\n",
    "    sum = sum + value\n",
    "    print(count, sum, value)\n",
    "print('After', count, sum, sum/count)"
   ]
  },
  {
   "cell_type": "code",
   "execution_count": 20,
   "id": "28796b42",
   "metadata": {},
   "outputs": [],
   "source": [
    "## Filtering in a Loop"
   ]
  },
  {
   "cell_type": "markdown",
   "id": "097c508f",
   "metadata": {},
   "source": [
    "'''we use an if statement in the loop to catch / filter the values we are looking for'''"
   ]
  },
  {
   "cell_type": "code",
   "execution_count": 22,
   "id": "06b067af",
   "metadata": {},
   "outputs": [
    {
     "name": "stdout",
     "output_type": "stream",
     "text": [
      "Before\n",
      "Large number 41\n",
      "Large number 74\n",
      "After\n"
     ]
    }
   ],
   "source": [
    "print('Before')\n",
    "for value in [9, 41, 12, 3, 74, 15]:\n",
    "    if value > 20:\n",
    "        print('Large number', value)\n",
    "print('After')"
   ]
  },
  {
   "cell_type": "code",
   "execution_count": 23,
   "id": "fe8f2d20",
   "metadata": {},
   "outputs": [],
   "source": [
    "## Search Using a Boolean Variable"
   ]
  },
  {
   "cell_type": "markdown",
   "id": "a77f083f",
   "metadata": {},
   "source": [
    "'''if we just want to search and know if a value was found, we use a variable that starts\n",
    "at False and is set to True as soon as we find what we are looking for'''"
   ]
  },
  {
   "cell_type": "code",
   "execution_count": 24,
   "id": "307038af",
   "metadata": {},
   "outputs": [
    {
     "name": "stdout",
     "output_type": "stream",
     "text": [
      "Before False\n",
      "False 8\n",
      "False 41\n",
      "False 12\n",
      "True 3\n",
      "True 74\n",
      "True 15\n",
      "After True\n"
     ]
    }
   ],
   "source": [
    "found = False\n",
    "print('Before', found)\n",
    "for value in [8, 41, 12, 3, 74, 15]:\n",
    "    if value == 3:\n",
    "        found = True\n",
    "    print(found, value)\n",
    "print('After', found)"
   ]
  },
  {
   "cell_type": "code",
   "execution_count": 26,
   "id": "bc352c8c",
   "metadata": {},
   "outputs": [],
   "source": [
    "## Finding the smallest Value"
   ]
  },
  {
   "cell_type": "code",
   "execution_count": 28,
   "id": "a223c62b",
   "metadata": {},
   "outputs": [
    {
     "name": "stdout",
     "output_type": "stream",
     "text": [
      "Before 99\n",
      "9 9\n",
      "9 41\n",
      "9 12\n",
      "3 3\n",
      "3 74\n",
      "3 15\n",
      "After 3\n"
     ]
    }
   ],
   "source": [
    "smallest_so_far = 99 ##called flag value\n",
    "print('Before', smallest_so_far)\n",
    "for the_num in [9, 41, 12, 3, 74, 15]:\n",
    "    if the_num < smallest_so_far:\n",
    "        smallest_so_far = the_num\n",
    "    print(smallest_so_far, the_num)\n",
    "print('After', smallest_so_far)"
   ]
  },
  {
   "cell_type": "markdown",
   "id": "ac0c4580",
   "metadata": {},
   "source": [
    "# None Type"
   ]
  },
  {
   "cell_type": "markdown",
   "id": "8d51a83e",
   "metadata": {},
   "source": [
    "'''we still have a variable that is the smallest so far. The first time through the loop smallest is None, so we take the first value to be the smallest.'''"
   ]
  },
  {
   "cell_type": "code",
   "execution_count": 29,
   "id": "66b43183",
   "metadata": {},
   "outputs": [
    {
     "name": "stdout",
     "output_type": "stream",
     "text": [
      "Before\n",
      "9 9\n",
      "9 41\n",
      "9 12\n",
      "3 3\n",
      "3 74\n",
      "3 15\n",
      "After 3\n"
     ]
    }
   ],
   "source": [
    "smallest = None\n",
    "print('Before')\n",
    "for value in [9, 41, 12, 3, 74, 15] :\n",
    "    if smallest is None:\n",
    "        smallest = value\n",
    "    elif value < smallest :\n",
    "        smallest = value\n",
    "    print(smallest, value)\n",
    "print('After', smallest)"
   ]
  },
  {
   "cell_type": "markdown",
   "id": "d1a27b8a",
   "metadata": {},
   "source": [
    "# The \"is\" and \"is not\" Operators"
   ]
  },
  {
   "cell_type": "markdown",
   "id": "1ee57a14",
   "metadata": {},
   "source": [
    "- python has an 'is' operator that can be used in logical expressions\n",
    "- implies \"is the same as\"\n",
    "- similar to, but stronger than ==\n",
    "- \"is not\" also is a logical operator"
   ]
  },
  {
   "cell_type": "code",
   "execution_count": null,
   "id": "59c14c21",
   "metadata": {},
   "outputs": [],
   "source": [
    "smallest = None\n",
    "print('Before')\n",
    "for value in [9, 41, 12, 3, 74, 15] :\n",
    "    if smallest is None:\n",
    "        smallest = value\n",
    "    elif value < smallest :\n",
    "        smallest = value\n",
    "    print(smallest, value)\n",
    "print('After', smallest)"
   ]
  }
 ],
 "metadata": {
  "kernelspec": {
   "display_name": "Python 3 (ipykernel)",
   "language": "python",
   "name": "python3"
  },
  "language_info": {
   "codemirror_mode": {
    "name": "ipython",
    "version": 3
   },
   "file_extension": ".py",
   "mimetype": "text/x-python",
   "name": "python",
   "nbconvert_exporter": "python",
   "pygments_lexer": "ipython3",
   "version": "3.10.11"
  }
 },
 "nbformat": 4,
 "nbformat_minor": 5
}
