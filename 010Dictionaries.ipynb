{
 "cells": [
  {
   "cell_type": "markdown",
   "id": "ebf2dc4d",
   "metadata": {},
   "source": [
    "# A Story of Two Collections"
   ]
  },
  {
   "cell_type": "markdown",
   "id": "b2c35d20",
   "metadata": {},
   "source": [
    "- List - a linear collection of values that stay in order\n",
    "- Dictionary - a \"bag\" of values, each with its own label"
   ]
  },
  {
   "cell_type": "markdown",
   "id": "603f7f4d",
   "metadata": {},
   "source": [
    "# Dictionaries"
   ]
  },
  {
   "cell_type": "markdown",
   "id": "516c7448",
   "metadata": {},
   "source": [
    "- dictionaries are Python's most powerful data collection\n",
    "- dictionaries allow us to do fast database-like operations in Python\n",
    "- dictionaries have different names in different languages -> Associative Arrays - Perl/PHP; Properties or Map or HashMap - Java; Property Bag - C#/.Net"
   ]
  },
  {
   "cell_type": "markdown",
   "id": "0d93d3c3",
   "metadata": {},
   "source": [
    "- lists index their entries based on the position in the list\n",
    "- Dictionaries are like bags - no order\n",
    "- so we index the things we put in the dictionary with a \"lookup tag\""
   ]
  },
  {
   "cell_type": "code",
   "execution_count": 1,
   "id": "db127e05",
   "metadata": {},
   "outputs": [
    {
     "name": "stdout",
     "output_type": "stream",
     "text": [
      "{'money': 12, 'candy': 3, 'tissues': 75}\n"
     ]
    }
   ],
   "source": [
    "purse = dict()\n",
    "purse['money'] = 12\n",
    "purse['candy'] = 3\n",
    "purse['tissues'] = 75\n",
    "print(purse)"
   ]
  },
  {
   "cell_type": "code",
   "execution_count": 2,
   "id": "5ce8b83f",
   "metadata": {},
   "outputs": [
    {
     "name": "stdout",
     "output_type": "stream",
     "text": [
      "3\n"
     ]
    }
   ],
   "source": [
    "print(purse['candy'])"
   ]
  },
  {
   "cell_type": "code",
   "execution_count": 3,
   "id": "2135caac",
   "metadata": {},
   "outputs": [
    {
     "name": "stdout",
     "output_type": "stream",
     "text": [
      "{'money': 12, 'candy': 5, 'tissues': 75}\n"
     ]
    }
   ],
   "source": [
    "purse['candy'] = purse['candy'] + 2\n",
    "print(purse)"
   ]
  },
  {
   "cell_type": "markdown",
   "id": "4cd40b9b",
   "metadata": {},
   "source": [
    "- dictionaries are like lists except that they use keys instead of numbers to look up values"
   ]
  },
  {
   "cell_type": "markdown",
   "id": "57e7e320",
   "metadata": {},
   "source": [
    "# Dictionary Literals (Constants)"
   ]
  },
  {
   "cell_type": "markdown",
   "id": "b0280852",
   "metadata": {},
   "source": [
    "- dictionary literals use curly braces and have a list of key:value pairs\n",
    "- you can make an empty dictionary using empty curly braces"
   ]
  },
  {
   "cell_type": "code",
   "execution_count": 4,
   "id": "f861f181",
   "metadata": {},
   "outputs": [
    {
     "name": "stdout",
     "output_type": "stream",
     "text": [
      "{'chuck': 1, 'fred': 42, 'jan': 100}\n"
     ]
    }
   ],
   "source": [
    "jjj = {'chuck': 1, 'fred': 42, 'jan':100}\n",
    "print(jjj)"
   ]
  },
  {
   "cell_type": "code",
   "execution_count": 5,
   "id": "ebdec4b0",
   "metadata": {},
   "outputs": [
    {
     "name": "stdout",
     "output_type": "stream",
     "text": [
      "{}\n"
     ]
    }
   ],
   "source": [
    "ooo = { }\n",
    "print(ooo)"
   ]
  }
 ],
 "metadata": {
  "kernelspec": {
   "display_name": "Python 3 (ipykernel)",
   "language": "python",
   "name": "python3"
  },
  "language_info": {
   "codemirror_mode": {
    "name": "ipython",
    "version": 3
   },
   "file_extension": ".py",
   "mimetype": "text/x-python",
   "name": "python",
   "nbconvert_exporter": "python",
   "pygments_lexer": "ipython3",
   "version": "3.10.11"
  }
 },
 "nbformat": 4,
 "nbformat_minor": 5
}
