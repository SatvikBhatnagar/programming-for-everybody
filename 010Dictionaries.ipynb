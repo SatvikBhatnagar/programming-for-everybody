{
 "cells": [
  {
   "cell_type": "markdown",
   "id": "6848fb32",
   "metadata": {},
   "source": [
    "# A Story of Two Collections"
   ]
  },
  {
   "cell_type": "markdown",
   "id": "38e82044",
   "metadata": {},
   "source": [
    "- List - a linear collection of values that stay in order\n",
    "- Dictionary - a \"bag\" of values, each with its own label"
   ]
  },
  {
   "cell_type": "markdown",
   "id": "a6bba56c",
   "metadata": {},
   "source": [
    "# Dictionaries"
   ]
  },
  {
   "cell_type": "markdown",
   "id": "fb66518b",
   "metadata": {},
   "source": [
    "- dictionaries are Python's most powerful data collection\n",
    "- dictionaries allow us to do fast database-like operations in Python\n",
    "- dictionaries have different names in different languages -> Associative Arrays - Perl/PHP; Properties or Map or HashMap - Java; Property Bag - C#/.Net"
   ]
  },
  {
   "cell_type": "markdown",
   "id": "e67d44da",
   "metadata": {},
   "source": [
    "- lists index their entries based on the position in the list\n",
    "- Dictionaries are like bags - no order\n",
    "- so we index the things we put in the dictionary with a \"lookup tag\""
   ]
  },
  {
   "cell_type": "code",
   "execution_count": 1,
   "id": "e88ef26d",
   "metadata": {},
   "outputs": [
    {
     "name": "stdout",
     "output_type": "stream",
     "text": [
      "{'money': 12, 'candy': 3, 'tissues': 75}\n"
     ]
    }
   ],
   "source": [
    "purse = dict()\n",
    "purse['money'] = 12\n",
    "purse['candy'] = 3\n",
    "purse['tissues'] = 75\n",
    "print(purse)"
   ]
  },
  {
   "cell_type": "code",
   "execution_count": 2,
   "id": "e013267a",
   "metadata": {},
   "outputs": [
    {
     "name": "stdout",
     "output_type": "stream",
     "text": [
      "3\n"
     ]
    }
   ],
   "source": [
    "print(purse['candy'])"
   ]
  },
  {
   "cell_type": "code",
   "execution_count": 3,
   "id": "15a0db70",
   "metadata": {},
   "outputs": [
    {
     "name": "stdout",
     "output_type": "stream",
     "text": [
      "{'money': 12, 'candy': 5, 'tissues': 75}\n"
     ]
    }
   ],
   "source": [
    "purse['candy'] = purse['candy'] + 2\n",
    "print(purse)"
   ]
  },
  {
   "cell_type": "markdown",
   "id": "44366953",
   "metadata": {},
   "source": [
    "- dictionaries are like lists except that they use keys instead of numbers to look up values"
   ]
  },
  {
   "cell_type": "markdown",
   "id": "57b9b511",
   "metadata": {},
   "source": [
    "# Dictionary Literals (Constants)"
   ]
  },
  {
   "cell_type": "markdown",
   "id": "33e9d653",
   "metadata": {},
   "source": [
    "- dictionary literals use curly braces and have a list of key:value pairs\n",
    "- you can make an empty dictionary using empty curly braces"
   ]
  },
  {
   "cell_type": "code",
   "execution_count": 4,
   "id": "b8c3e9a4",
   "metadata": {},
   "outputs": [
    {
     "name": "stdout",
     "output_type": "stream",
     "text": [
      "{'chuck': 1, 'fred': 42, 'jan': 100}\n"
     ]
    }
   ],
   "source": [
    "jjj = {'chuck': 1, 'fred': 42, 'jan':100}\n",
    "print(jjj)"
   ]
  },
  {
   "cell_type": "code",
   "execution_count": 5,
   "id": "2e613ff7",
   "metadata": {},
   "outputs": [
    {
     "name": "stdout",
     "output_type": "stream",
     "text": [
      "{}\n"
     ]
    }
   ],
   "source": [
    "ooo = { }\n",
    "print(ooo)"
   ]
  },
  {
   "cell_type": "markdown",
   "id": "103f9773",
   "metadata": {},
   "source": [
    "# Many Counters with a Dictionary"
   ]
  },
  {
   "cell_type": "markdown",
   "id": "d727d7bf",
   "metadata": {},
   "source": [
    "- one common use of dictionaries is counting how often we \"see\" something"
   ]
  },
  {
   "cell_type": "code",
   "execution_count": 6,
   "id": "dde3be29",
   "metadata": {},
   "outputs": [
    {
     "name": "stdout",
     "output_type": "stream",
     "text": [
      "{'csev': 1, 'cwen': 1}\n"
     ]
    }
   ],
   "source": [
    "ccc = dict()\n",
    "ccc['csev'] = 1\n",
    "ccc['cwen'] = 1\n",
    "print(ccc)"
   ]
  },
  {
   "cell_type": "code",
   "execution_count": 7,
   "id": "14d06e1d",
   "metadata": {},
   "outputs": [
    {
     "name": "stdout",
     "output_type": "stream",
     "text": [
      "{'csev': 1, 'cwen': 2}\n"
     ]
    }
   ],
   "source": [
    "ccc['cwen'] = ccc['cwen'] + 1\n",
    "print(ccc)"
   ]
  },
  {
   "cell_type": "markdown",
   "id": "1abc904b",
   "metadata": {},
   "source": [
    "# Dictionary Tracebacks"
   ]
  },
  {
   "cell_type": "markdown",
   "id": "1660f36c",
   "metadata": {},
   "source": [
    "- it is an error to reference a key which is not in the dictionary\n",
    "- we can use the in opoerator to see if a key is in the dictionary"
   ]
  },
  {
   "cell_type": "code",
   "execution_count": 8,
   "id": "a93278e1",
   "metadata": {},
   "outputs": [
    {
     "ename": "KeyError",
     "evalue": "'ccc'",
     "output_type": "error",
     "traceback": [
      "\u001b[0;31m---------------------------------------------------------------------------\u001b[0m",
      "\u001b[0;31mKeyError\u001b[0m                                  Traceback (most recent call last)",
      "Cell \u001b[0;32mIn[8], line 2\u001b[0m\n\u001b[1;32m      1\u001b[0m abc \u001b[38;5;241m=\u001b[39m \u001b[38;5;28mdict\u001b[39m()\n\u001b[0;32m----> 2\u001b[0m \u001b[38;5;28mprint\u001b[39m(\u001b[43mabc\u001b[49m\u001b[43m[\u001b[49m\u001b[38;5;124;43m'\u001b[39;49m\u001b[38;5;124;43mccc\u001b[39;49m\u001b[38;5;124;43m'\u001b[39;49m\u001b[43m]\u001b[49m)\n",
      "\u001b[0;31mKeyError\u001b[0m: 'ccc'"
     ]
    }
   ],
   "source": [
    "abc = dict()\n",
    "print(abc['ccc'])"
   ]
  },
  {
   "cell_type": "code",
   "execution_count": 9,
   "id": "50053132",
   "metadata": {},
   "outputs": [
    {
     "data": {
      "text/plain": [
       "False"
      ]
     },
     "execution_count": 9,
     "metadata": {},
     "output_type": "execute_result"
    }
   ],
   "source": [
    "'ccc' in abc"
   ]
  },
  {
   "cell_type": "code",
   "execution_count": 11,
   "id": "f0ce1283",
   "metadata": {},
   "outputs": [
    {
     "name": "stdout",
     "output_type": "stream",
     "text": [
      "{'csev': 2, 'cwen': 2, 'zqian': 1}\n"
     ]
    }
   ],
   "source": [
    "counts = dict()\n",
    "names = ['csev', 'cwen', 'csev', 'zqian', 'cwen']\n",
    "for name in names:\n",
    "    if name not in counts :\n",
    "        counts[name] = 1\n",
    "        continue\n",
    "    counts[name] = counts[name] + 1\n",
    "        \n",
    "print(counts)"
   ]
  },
  {
   "cell_type": "markdown",
   "id": "4b45c00d",
   "metadata": {},
   "source": [
    "# The \"get\" method for Dictionaries"
   ]
  },
  {
   "cell_type": "markdown",
   "id": "36e72e85",
   "metadata": {},
   "source": [
    "- The pattern of checking to see if a key is already in a dictionary and assuming a default value if the key is not there is so common that there is a method called get() that does this for us\n",
    "\n",
    "- Default value if key does not exist (and no Traceback)\n",
    "\n",
    "- We can use get() and provide a default value of zero when the key is not yet in the dictionary - and then just add one"
   ]
  },
  {
   "cell_type": "code",
   "execution_count": 13,
   "id": "65fc6e91",
   "metadata": {},
   "outputs": [
    {
     "name": "stdout",
     "output_type": "stream",
     "text": [
      "{'csev': 2, 'cwen': 2, 'zqian': 1}\n"
     ]
    }
   ],
   "source": [
    "counts = dict()\n",
    "names = ['csev', 'cwen', 'csev', 'zqian', 'cwen']\n",
    "for name in names:\n",
    "    counts[name] = counts.get(name, 0) + 1\n",
    "print(counts)"
   ]
  }
 ],
 "metadata": {
  "kernelspec": {
   "display_name": "Python 3 (ipykernel)",
   "language": "python",
   "name": "python3"
  },
  "language_info": {
   "codemirror_mode": {
    "name": "ipython",
    "version": 3
   },
   "file_extension": ".py",
   "mimetype": "text/x-python",
   "name": "python",
   "nbconvert_exporter": "python",
   "pygments_lexer": "ipython3",
   "version": "3.10.11"
  }
 },
 "nbformat": 4,
 "nbformat_minor": 5
}
