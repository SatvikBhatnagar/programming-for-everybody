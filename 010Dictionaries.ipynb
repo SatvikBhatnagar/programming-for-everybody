{
 "cells": [
  {
   "cell_type": "markdown",
   "id": "89d54598",
   "metadata": {},
   "source": [
    "# A Story of Two Collections"
   ]
  },
  {
   "cell_type": "markdown",
   "id": "24509e36",
   "metadata": {},
   "source": [
    "- List - a linear collection of values that stay in order\n",
    "- Dictionary - a \"bag\" of values, each with its own label"
   ]
  },
  {
   "cell_type": "markdown",
   "id": "8414ffbf",
   "metadata": {},
   "source": [
    "# Dictionaries"
   ]
  },
  {
   "cell_type": "markdown",
   "id": "b3e46168",
   "metadata": {},
   "source": [
    "- dictionaries are Python's most powerful data collection\n",
    "- dictionaries allow us to do fast database-like operations in Python\n",
    "- dictionaries have different names in different languages -> Associative Arrays - Perl/PHP; Properties or Map or HashMap - Java; Property Bag - C#/.Net"
   ]
  },
  {
   "cell_type": "markdown",
   "id": "61d4b03a",
   "metadata": {},
   "source": [
    "- lists index their entries based on the position in the list\n",
    "- Dictionaries are like bags - no order\n",
    "- so we index the things we put in the dictionary with a \"lookup tag\""
   ]
  },
  {
   "cell_type": "code",
   "execution_count": 1,
   "id": "f21bd784",
   "metadata": {},
   "outputs": [
    {
     "name": "stdout",
     "output_type": "stream",
     "text": [
      "{'money': 12, 'candy': 3, 'tissues': 75}\n"
     ]
    }
   ],
   "source": [
    "purse = dict()\n",
    "purse['money'] = 12\n",
    "purse['candy'] = 3\n",
    "purse['tissues'] = 75\n",
    "print(purse)"
   ]
  },
  {
   "cell_type": "code",
   "execution_count": 2,
   "id": "d7ed1e43",
   "metadata": {},
   "outputs": [
    {
     "name": "stdout",
     "output_type": "stream",
     "text": [
      "3\n"
     ]
    }
   ],
   "source": [
    "print(purse['candy'])"
   ]
  },
  {
   "cell_type": "code",
   "execution_count": 3,
   "id": "a4cea005",
   "metadata": {},
   "outputs": [
    {
     "name": "stdout",
     "output_type": "stream",
     "text": [
      "{'money': 12, 'candy': 5, 'tissues': 75}\n"
     ]
    }
   ],
   "source": [
    "purse['candy'] = purse['candy'] + 2\n",
    "print(purse)"
   ]
  },
  {
   "cell_type": "markdown",
   "id": "d4337152",
   "metadata": {},
   "source": [
    "- dictionaries are like lists except that they use keys instead of numbers to look up values"
   ]
  },
  {
   "cell_type": "markdown",
   "id": "17e33837",
   "metadata": {},
   "source": [
    "# Dictionary Literals (Constants)"
   ]
  },
  {
   "cell_type": "markdown",
   "id": "29e49e2f",
   "metadata": {},
   "source": [
    "- dictionary literals use curly braces and have a list of key:value pairs\n",
    "- you can make an empty dictionary using empty curly braces"
   ]
  },
  {
   "cell_type": "code",
   "execution_count": 4,
   "id": "342e5eb6",
   "metadata": {},
   "outputs": [
    {
     "name": "stdout",
     "output_type": "stream",
     "text": [
      "{'chuck': 1, 'fred': 42, 'jan': 100}\n"
     ]
    }
   ],
   "source": [
    "jjj = {'chuck': 1, 'fred': 42, 'jan':100}\n",
    "print(jjj)"
   ]
  },
  {
   "cell_type": "code",
   "execution_count": 5,
   "id": "d3189cab",
   "metadata": {},
   "outputs": [
    {
     "name": "stdout",
     "output_type": "stream",
     "text": [
      "{}\n"
     ]
    }
   ],
   "source": [
    "ooo = { }\n",
    "print(ooo)"
   ]
  },
  {
   "cell_type": "markdown",
   "id": "6ce3b780",
   "metadata": {},
   "source": [
    "# Many Counters with a Dictionary"
   ]
  },
  {
   "cell_type": "markdown",
   "id": "e2f752b7",
   "metadata": {},
   "source": [
    "- one common use of dictionaries is counting how often we \"see\" something"
   ]
  },
  {
   "cell_type": "code",
   "execution_count": 6,
   "id": "7036a9d6",
   "metadata": {},
   "outputs": [
    {
     "name": "stdout",
     "output_type": "stream",
     "text": [
      "{'csev': 1, 'cwen': 1}\n"
     ]
    }
   ],
   "source": [
    "ccc = dict()\n",
    "ccc['csev'] = 1\n",
    "ccc['cwen'] = 1\n",
    "print(ccc)"
   ]
  },
  {
   "cell_type": "code",
   "execution_count": 7,
   "id": "434f45e6",
   "metadata": {},
   "outputs": [
    {
     "name": "stdout",
     "output_type": "stream",
     "text": [
      "{'csev': 1, 'cwen': 2}\n"
     ]
    }
   ],
   "source": [
    "ccc['cwen'] = ccc['cwen'] + 1\n",
    "print(ccc)"
   ]
  },
  {
   "cell_type": "markdown",
   "id": "37ab0182",
   "metadata": {},
   "source": [
    "# Dictionary Tracebacks"
   ]
  },
  {
   "cell_type": "markdown",
   "id": "3cdd0761",
   "metadata": {},
   "source": [
    "- it is an error to reference a key which is not in the dictionary\n",
    "- we can use the in opoerator to see if a key is in the dictionary"
   ]
  },
  {
   "cell_type": "code",
   "execution_count": 8,
   "id": "6b298fb1",
   "metadata": {},
   "outputs": [
    {
     "ename": "KeyError",
     "evalue": "'ccc'",
     "output_type": "error",
     "traceback": [
      "\u001b[0;31m---------------------------------------------------------------------------\u001b[0m",
      "\u001b[0;31mKeyError\u001b[0m                                  Traceback (most recent call last)",
      "Cell \u001b[0;32mIn[8], line 2\u001b[0m\n\u001b[1;32m      1\u001b[0m abc \u001b[38;5;241m=\u001b[39m \u001b[38;5;28mdict\u001b[39m()\n\u001b[0;32m----> 2\u001b[0m \u001b[38;5;28mprint\u001b[39m(\u001b[43mabc\u001b[49m\u001b[43m[\u001b[49m\u001b[38;5;124;43m'\u001b[39;49m\u001b[38;5;124;43mccc\u001b[39;49m\u001b[38;5;124;43m'\u001b[39;49m\u001b[43m]\u001b[49m)\n",
      "\u001b[0;31mKeyError\u001b[0m: 'ccc'"
     ]
    }
   ],
   "source": [
    "abc = dict()\n",
    "print(abc['ccc'])"
   ]
  },
  {
   "cell_type": "code",
   "execution_count": 9,
   "id": "6953f63f",
   "metadata": {},
   "outputs": [
    {
     "data": {
      "text/plain": [
       "False"
      ]
     },
     "execution_count": 9,
     "metadata": {},
     "output_type": "execute_result"
    }
   ],
   "source": [
    "'ccc' in abc"
   ]
  },
  {
   "cell_type": "code",
   "execution_count": 11,
   "id": "c44b1795",
   "metadata": {},
   "outputs": [
    {
     "name": "stdout",
     "output_type": "stream",
     "text": [
      "{'csev': 2, 'cwen': 2, 'zqian': 1}\n"
     ]
    }
   ],
   "source": [
    "counts = dict()\n",
    "names = ['csev', 'cwen', 'csev', 'zqian', 'cwen']\n",
    "for name in names:\n",
    "    if name not in counts :\n",
    "        counts[name] = 1\n",
    "        continue\n",
    "    counts[name] = counts[name] + 1\n",
    "        \n",
    "print(counts)"
   ]
  },
  {
   "cell_type": "markdown",
   "id": "2d9a0899",
   "metadata": {},
   "source": [
    "# The \"get\" method for Dictionaries"
   ]
  },
  {
   "cell_type": "markdown",
   "id": "101a5736",
   "metadata": {},
   "source": [
    "- The pattern of checking to see if a key is already in a dictionary and assuming a default value if the key is not there is so common that there is a method called get() that does this for us\n",
    "\n",
    "- Default value if key does not exist (and no Traceback)\n",
    "\n",
    "- We can use get() and provide a default value of zero when the key is not yet in the dictionary - and then just add one"
   ]
  },
  {
   "cell_type": "code",
   "execution_count": 13,
   "id": "4016daa9",
   "metadata": {},
   "outputs": [
    {
     "name": "stdout",
     "output_type": "stream",
     "text": [
      "{'csev': 2, 'cwen': 2, 'zqian': 1}\n"
     ]
    }
   ],
   "source": [
    "counts = dict()\n",
    "names = ['csev', 'cwen', 'csev', 'zqian', 'cwen']\n",
    "for name in names:\n",
    "    counts[name] = counts.get(name, 0) + 1\n",
    "print(counts)"
   ]
  },
  {
   "cell_type": "markdown",
   "id": "d6b23dde",
   "metadata": {},
   "source": [
    "# Counting Pattern"
   ]
  },
  {
   "cell_type": "markdown",
   "id": "589a23c2",
   "metadata": {},
   "source": [
    "The general pattern to count the words in a line of text is to split the line into words, then loop thorough the words and use a dictionary to track the count of each word independently."
   ]
  },
  {
   "cell_type": "code",
   "execution_count": 15,
   "id": "e99f09bd",
   "metadata": {},
   "outputs": [
    {
     "name": "stdout",
     "output_type": "stream",
     "text": [
      "Enter a line of text: \n",
      "the clown ran after the car and the car ran into the tent and the tent fell down on the clown and the car\n",
      "Words: ['the', 'clown', 'ran', 'after', 'the', 'car', 'and', 'the', 'car', 'ran', 'into', 'the', 'tent', 'and', 'the', 'tent', 'fell', 'down', 'on', 'the', 'clown', 'and', 'the', 'car']\n",
      "Counting...\n",
      "Counts {'the': 7, 'clown': 2, 'ran': 2, 'after': 1, 'car': 3, 'and': 3, 'into': 1, 'tent': 2, 'fell': 1, 'down': 1, 'on': 1}\n"
     ]
    }
   ],
   "source": [
    "counts = dict()\n",
    "print('Enter a line of text: ')\n",
    "line = input(\"\")\n",
    "\n",
    "words = line.split()\n",
    "\n",
    "print('Words:', words)\n",
    "\n",
    "print('Counting...')\n",
    "for word in words:\n",
    "    counts[word] = counts.get(word,0) + 1\n",
    "print('Counts', counts)"
   ]
  },
  {
   "cell_type": "markdown",
   "id": "0c9208b1",
   "metadata": {},
   "source": [
    "# Definite Loops and Dictionaries"
   ]
  },
  {
   "cell_type": "markdown",
   "id": "3f43b304",
   "metadata": {},
   "source": [
    "Even though dictionaries are not stored in order, we can write a for loop that goes through all the entries in a dictionary - actually it goes through all of the keys in the dictionaries and looks up the values"
   ]
  },
  {
   "cell_type": "code",
   "execution_count": 18,
   "id": "73854ff7",
   "metadata": {},
   "outputs": [
    {
     "name": "stdout",
     "output_type": "stream",
     "text": [
      "chuck 1\n",
      "fred 42\n",
      "jan 100\n"
     ]
    }
   ],
   "source": [
    "counts = {'chuck' : 1, 'fred' : 42, 'jan' : 100}\n",
    "for key in counts :\n",
    "    print(key, counts[key])"
   ]
  },
  {
   "cell_type": "markdown",
   "id": "7996251f",
   "metadata": {},
   "source": [
    "# Retrieving LISTS of Keys and Values"
   ]
  },
  {
   "cell_type": "code",
   "execution_count": 19,
   "id": "89da3dc2",
   "metadata": {},
   "outputs": [
    {
     "name": "stdout",
     "output_type": "stream",
     "text": [
      "['chuck', 'fred', 'jan']\n"
     ]
    }
   ],
   "source": [
    "jjj = {'chuck' : 1, 'fred' : 42, 'jan' : 100}\n",
    "print(list(jjj))"
   ]
  },
  {
   "cell_type": "code",
   "execution_count": 20,
   "id": "ddfca914",
   "metadata": {},
   "outputs": [
    {
     "name": "stdout",
     "output_type": "stream",
     "text": [
      "dict_keys(['chuck', 'fred', 'jan'])\n"
     ]
    }
   ],
   "source": [
    "print(jjj.keys())"
   ]
  },
  {
   "cell_type": "code",
   "execution_count": 21,
   "id": "257240e5",
   "metadata": {},
   "outputs": [
    {
     "name": "stdout",
     "output_type": "stream",
     "text": [
      "dict_values([1, 42, 100])\n"
     ]
    }
   ],
   "source": [
    "print(jjj.values())"
   ]
  },
  {
   "cell_type": "code",
   "execution_count": 22,
   "id": "b704db94",
   "metadata": {},
   "outputs": [
    {
     "name": "stdout",
     "output_type": "stream",
     "text": [
      "dict_items([('chuck', 1), ('fred', 42), ('jan', 100)])\n"
     ]
    }
   ],
   "source": [
    "print(jjj.items())"
   ]
  },
  {
   "cell_type": "markdown",
   "id": "751c879f",
   "metadata": {},
   "source": [
    "# Two Iteration Variables"
   ]
  },
  {
   "cell_type": "markdown",
   "id": "e7467114",
   "metadata": {},
   "source": [
    "- we loop through the key-value pairs in a dictionary using *two* iteration variables\n",
    "- each iteration, the first variable is the key and the second variable is the corresponding value for the key"
   ]
  },
  {
   "cell_type": "code",
   "execution_count": 24,
   "id": "c5311722",
   "metadata": {},
   "outputs": [
    {
     "name": "stdout",
     "output_type": "stream",
     "text": [
      "chuck 1\n",
      "fred 42\n",
      "jan 100\n"
     ]
    }
   ],
   "source": [
    "jjj = {'chuck' : 1, 'fred' : 42, 'jan' : 100}\n",
    "for a, b in jjj.items() :\n",
    "    print(a,b)"
   ]
  },
  {
   "cell_type": "code",
   "execution_count": 26,
   "id": "da000603",
   "metadata": {},
   "outputs": [
    {
     "name": "stdout",
     "output_type": "stream",
     "text": [
      "to 16\n"
     ]
    }
   ],
   "source": [
    "handle = open('words.txt')\n",
    "counts = dict()\n",
    "for line in handle :\n",
    "    words = line.split()\n",
    "    for word in words :\n",
    "        counts[word] = counts.get(word, 0) + 1\n",
    "        \n",
    "bigcount = None\n",
    "bigword = None\n",
    "for word, count in counts.items() :\n",
    "    if bigcount is None or count > bigcount:\n",
    "        bigword = word\n",
    "        bigcount = count\n",
    "\n",
    "print(bigword, bigcount)"
   ]
  },
  {
   "cell_type": "markdown",
   "id": "5354bb6e",
   "metadata": {},
   "source": [
    "Assignment 9.4"
   ]
  },
  {
   "cell_type": "markdown",
   "id": "2c298fe1",
   "metadata": {},
   "source": [
    "Write a program to read through the mbox-short.txt and figure out who has sent the greatest number of mail messages. The program looks for 'From ' lines and takes the second word of those lines as the person who sent the mail. The program creates a Python dictionary that maps the sender's mail address to a count of the number of times they appear in the file. After the dictionary is produced, the program reads through the dictionary using a maximum loop to find the most prolific committer."
   ]
  },
  {
   "cell_type": "code",
   "execution_count": 41,
   "id": "c224c8e4",
   "metadata": {},
   "outputs": [
    {
     "name": "stdout",
     "output_type": "stream",
     "text": [
      "cwen@iupui.edu 5\n"
     ]
    }
   ],
   "source": [
    "fhand = open('mbox-short.txt')\n",
    "email = dict()\n",
    "\n",
    "for line in fhand :\n",
    "    line = line.rstrip()\n",
    "    if not line.startswith('From ') : continue\n",
    "    words = line.split()\n",
    "    email[words[1]] = email.get(words[1], 0) + 1\n",
    "    \n",
    "max_email = None\n",
    "max_times = None\n",
    "for k, v in email.items() :\n",
    "    if max_email is None or v > max_times :\n",
    "        max_email = k\n",
    "        max_times = v\n",
    "        \n",
    "print(max_email, max_times)"
   ]
  }
 ],
 "metadata": {
  "kernelspec": {
   "display_name": "Python 3 (ipykernel)",
   "language": "python",
   "name": "python3"
  },
  "language_info": {
   "codemirror_mode": {
    "name": "ipython",
    "version": 3
   },
   "file_extension": ".py",
   "mimetype": "text/x-python",
   "name": "python",
   "nbconvert_exporter": "python",
   "pygments_lexer": "ipython3",
   "version": "3.10.11"
  }
 },
 "nbformat": 4,
 "nbformat_minor": 5
}
