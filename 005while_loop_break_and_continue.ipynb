{
 "cells": [
  {
   "cell_type": "markdown",
   "id": "a08d8659",
   "metadata": {},
   "source": [
    "# Repeated Steps"
   ]
  },
  {
   "cell_type": "raw",
   "id": "6360f878",
   "metadata": {},
   "source": [
    "Loops (repeated steps) have iteration variables that change each time through a loop. Often these iteration variables go through a sequence of numbers."
   ]
  },
  {
   "cell_type": "code",
   "execution_count": 1,
   "id": "43924df5",
   "metadata": {},
   "outputs": [
    {
     "name": "stdout",
     "output_type": "stream",
     "text": [
      "5\n",
      "4\n",
      "3\n",
      "2\n",
      "1\n",
      "Blastoff!\n",
      "0\n"
     ]
    }
   ],
   "source": [
    "n = 5\n",
    "while n > 0:\n",
    "    print(n)\n",
    "    n = n-1\n",
    "print('Blastoff!')\n",
    "print(n)"
   ]
  },
  {
   "cell_type": "markdown",
   "id": "78106a99",
   "metadata": {},
   "source": [
    "# Break"
   ]
  },
  {
   "cell_type": "markdown",
   "id": "d8a69933",
   "metadata": {},
   "source": [
    "The break statement ends the current loop and jumps to the statement immediately following the loop.\n",
    "It's like a loop teste that can happen anywhere in the body of the loop."
   ]
  },
  {
   "cell_type": "code",
   "execution_count": 3,
   "id": "fe1566e0",
   "metadata": {},
   "outputs": [
    {
     "name": "stdout",
     "output_type": "stream",
     "text": [
      "> hellooo there\n",
      "hellooo there\n",
      "> finished?\n",
      "finished?\n",
      "> not yet\n",
      "not yet\n",
      "> done\n",
      "Done!\n"
     ]
    }
   ],
   "source": [
    "while True:\n",
    "    line = input('> ')\n",
    "    if line == 'done':\n",
    "        break\n",
    "    print(line)\n",
    "print('Done!')"
   ]
  },
  {
   "cell_type": "markdown",
   "id": "6824bab9",
   "metadata": {},
   "source": [
    "# Continue"
   ]
  },
  {
   "cell_type": "markdown",
   "id": "2fb5c0ba",
   "metadata": {},
   "source": [
    "The continue statement ends the current iteration and jumps to the top of the loop and starts the next interation"
   ]
  },
  {
   "cell_type": "code",
   "execution_count": 4,
   "id": "1f6b9e2d",
   "metadata": {},
   "outputs": [
    {
     "name": "stdout",
     "output_type": "stream",
     "text": [
      "> hellooo there\n",
      "hellooo there\n",
      "> finished?\n",
      "finished?\n",
      "> #not yet\n",
      "> done\n",
      "Done!\n"
     ]
    }
   ],
   "source": [
    "while True:\n",
    "    line = input('> ')\n",
    "    if line[0] == '#' :\n",
    "        continue\n",
    "    if line == 'done' :\n",
    "        break\n",
    "    print(line)\n",
    "print('Done!')"
   ]
  }
 ],
 "metadata": {
  "kernelspec": {
   "display_name": "Python 3 (ipykernel)",
   "language": "python",
   "name": "python3"
  },
  "language_info": {
   "codemirror_mode": {
    "name": "ipython",
    "version": 3
   },
   "file_extension": ".py",
   "mimetype": "text/x-python",
   "name": "python",
   "nbconvert_exporter": "python",
   "pygments_lexer": "ipython3",
   "version": "3.10.11"
  }
 },
 "nbformat": 4,
 "nbformat_minor": 5
}
